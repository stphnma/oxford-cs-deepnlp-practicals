{
 "cells": [
  {
   "cell_type": "markdown",
   "metadata": {},
   "source": [
    "## Practical 1: word2vec\n",
    "<p>Oxford CS - Deep NLP 2017<br>\n",
    "https://www.cs.ox.ac.uk/teaching/courses/2016-2017/dl/</p>\n",
    "<p>[Yannis Assael, Brendan Shillingford, Chris Dyer]</p>"
   ]
  },
  {
   "cell_type": "markdown",
   "metadata": {},
   "source": [
    "This practical is presented as an IPython Notebook, with the code written for recent versions of **Python 3**. The code in this practical will not work with Python 2 unless you modify it. If you are using your own Python installation, ensure you have a setup identical to that described in the installation shell script (which is intended for use with the department lab machines). We will be unable to support installation on personal machines due to time constraints, so please use the lab machines and the setup script if you are unfamiliar with how to install Anaconda.\n",
    "\n",
    "To execute a notebook cell, press `shift-enter`. The return value of the last command will be displayed, if it is not `None`.\n",
    "\n",
    "Potentially useful library documentation, references, and resources:\n",
    "\n",
    "* IPython notebooks: <https://ipython.org/ipython-doc/3/notebook/notebook.html#introduction>\n",
    "* Numpy numerical array library: <https://docs.scipy.org/doc/>\n",
    "* Gensim's word2vec: <https://radimrehurek.com/gensim/models/word2vec.html>\n",
    "* Bokeh interactive plots: <http://bokeh.pydata.org/en/latest/> (we provide plotting code here, but click the thumbnails for more examples to copy-paste)\n",
    "* scikit-learn ML library (aka `sklearn`): <http://scikit-learn.org/stable/documentation.html>\n",
    "* nltk NLP toolkit: <http://www.nltk.org/>\n",
    "* tutorial for processing xml in python using `lxml`: <http://lxml.de/tutorial.html> (we did this for you below, but in case you need it in the future)"
   ]
  },
  {
   "cell_type": "code",
   "execution_count": 1,
   "metadata": {
    "collapsed": false
   },
   "outputs": [],
   "source": [
    "import numpy as np\n",
    "import os\n",
    "from random import shuffle\n",
    "import re"
   ]
  },
  {
   "cell_type": "code",
   "execution_count": 2,
   "metadata": {
    "collapsed": false
   },
   "outputs": [
    {
     "data": {
      "text/html": [
       "\n",
       "    <div class=\"bk-root\">\n",
       "        <a href=\"http://bokeh.pydata.org\" target=\"_blank\" class=\"bk-logo bk-logo-small bk-logo-notebook\"></a>\n",
       "        <span id=\"557c2b81-9095-4c3d-ba0b-56e4d4c15c69\">Loading BokehJS ...</span>\n",
       "    </div>"
      ]
     },
     "metadata": {},
     "output_type": "display_data"
    },
    {
     "data": {
      "application/javascript": [
       "\n",
       "(function(global) {\n",
       "  function now() {\n",
       "    return new Date();\n",
       "  }\n",
       "\n",
       "  var force = true;\n",
       "\n",
       "  if (typeof (window._bokeh_onload_callbacks) === \"undefined\" || force === true) {\n",
       "    window._bokeh_onload_callbacks = [];\n",
       "    window._bokeh_is_loading = undefined;\n",
       "  }\n",
       "\n",
       "\n",
       "  \n",
       "  if (typeof (window._bokeh_timeout) === \"undefined\" || force === true) {\n",
       "    window._bokeh_timeout = Date.now() + 5000;\n",
       "    window._bokeh_failed_load = false;\n",
       "  }\n",
       "\n",
       "  var NB_LOAD_WARNING = {'data': {'text/html':\n",
       "     \"<div style='background-color: #fdd'>\\n\"+\n",
       "     \"<p>\\n\"+\n",
       "     \"BokehJS does not appear to have successfully loaded. If loading BokehJS from CDN, this \\n\"+\n",
       "     \"may be due to a slow or bad network connection. Possible fixes:\\n\"+\n",
       "     \"</p>\\n\"+\n",
       "     \"<ul>\\n\"+\n",
       "     \"<li>re-rerun `output_notebook()` to attempt to load from CDN again, or</li>\\n\"+\n",
       "     \"<li>use INLINE resources instead, as so:</li>\\n\"+\n",
       "     \"</ul>\\n\"+\n",
       "     \"<code>\\n\"+\n",
       "     \"from bokeh.resources import INLINE\\n\"+\n",
       "     \"output_notebook(resources=INLINE)\\n\"+\n",
       "     \"</code>\\n\"+\n",
       "     \"</div>\"}};\n",
       "\n",
       "  function display_loaded() {\n",
       "    if (window.Bokeh !== undefined) {\n",
       "      document.getElementById(\"557c2b81-9095-4c3d-ba0b-56e4d4c15c69\").textContent = \"BokehJS successfully loaded.\";\n",
       "    } else if (Date.now() < window._bokeh_timeout) {\n",
       "      setTimeout(display_loaded, 100)\n",
       "    }\n",
       "  }\n",
       "\n",
       "  function run_callbacks() {\n",
       "    window._bokeh_onload_callbacks.forEach(function(callback) { callback() });\n",
       "    delete window._bokeh_onload_callbacks\n",
       "    console.info(\"Bokeh: all callbacks have finished\");\n",
       "  }\n",
       "\n",
       "  function load_libs(js_urls, callback) {\n",
       "    window._bokeh_onload_callbacks.push(callback);\n",
       "    if (window._bokeh_is_loading > 0) {\n",
       "      console.log(\"Bokeh: BokehJS is being loaded, scheduling callback at\", now());\n",
       "      return null;\n",
       "    }\n",
       "    if (js_urls == null || js_urls.length === 0) {\n",
       "      run_callbacks();\n",
       "      return null;\n",
       "    }\n",
       "    console.log(\"Bokeh: BokehJS not loaded, scheduling load and callback at\", now());\n",
       "    window._bokeh_is_loading = js_urls.length;\n",
       "    for (var i = 0; i < js_urls.length; i++) {\n",
       "      var url = js_urls[i];\n",
       "      var s = document.createElement('script');\n",
       "      s.src = url;\n",
       "      s.async = false;\n",
       "      s.onreadystatechange = s.onload = function() {\n",
       "        window._bokeh_is_loading--;\n",
       "        if (window._bokeh_is_loading === 0) {\n",
       "          console.log(\"Bokeh: all BokehJS libraries loaded\");\n",
       "          run_callbacks()\n",
       "        }\n",
       "      };\n",
       "      s.onerror = function() {\n",
       "        console.warn(\"failed to load library \" + url);\n",
       "      };\n",
       "      console.log(\"Bokeh: injecting script tag for BokehJS library: \", url);\n",
       "      document.getElementsByTagName(\"head\")[0].appendChild(s);\n",
       "    }\n",
       "  };var element = document.getElementById(\"557c2b81-9095-4c3d-ba0b-56e4d4c15c69\");\n",
       "  if (element == null) {\n",
       "    console.log(\"Bokeh: ERROR: autoload.js configured with elementid '557c2b81-9095-4c3d-ba0b-56e4d4c15c69' but no matching script tag was found. \")\n",
       "    return false;\n",
       "  }\n",
       "\n",
       "  var js_urls = [\"https://cdn.pydata.org/bokeh/release/bokeh-0.12.4.min.js\", \"https://cdn.pydata.org/bokeh/release/bokeh-widgets-0.12.4.min.js\"];\n",
       "\n",
       "  var inline_js = [\n",
       "    function(Bokeh) {\n",
       "      Bokeh.set_log_level(\"info\");\n",
       "    },\n",
       "    \n",
       "    function(Bokeh) {\n",
       "      \n",
       "      document.getElementById(\"557c2b81-9095-4c3d-ba0b-56e4d4c15c69\").textContent = \"BokehJS is loading...\";\n",
       "    },\n",
       "    function(Bokeh) {\n",
       "      console.log(\"Bokeh: injecting CSS: https://cdn.pydata.org/bokeh/release/bokeh-0.12.4.min.css\");\n",
       "      Bokeh.embed.inject_css(\"https://cdn.pydata.org/bokeh/release/bokeh-0.12.4.min.css\");\n",
       "      console.log(\"Bokeh: injecting CSS: https://cdn.pydata.org/bokeh/release/bokeh-widgets-0.12.4.min.css\");\n",
       "      Bokeh.embed.inject_css(\"https://cdn.pydata.org/bokeh/release/bokeh-widgets-0.12.4.min.css\");\n",
       "    }\n",
       "  ];\n",
       "\n",
       "  function run_inline_js() {\n",
       "    \n",
       "    if ((window.Bokeh !== undefined) || (force === true)) {\n",
       "      for (var i = 0; i < inline_js.length; i++) {\n",
       "        inline_js[i](window.Bokeh);\n",
       "      }if (force === true) {\n",
       "        display_loaded();\n",
       "      }} else if (Date.now() < window._bokeh_timeout) {\n",
       "      setTimeout(run_inline_js, 100);\n",
       "    } else if (!window._bokeh_failed_load) {\n",
       "      console.log(\"Bokeh: BokehJS failed to load within specified timeout.\");\n",
       "      window._bokeh_failed_load = true;\n",
       "    } else if (force !== true) {\n",
       "      var cell = $(document.getElementById(\"557c2b81-9095-4c3d-ba0b-56e4d4c15c69\")).parents('.cell').data().cell;\n",
       "      cell.output_area.append_execute_result(NB_LOAD_WARNING)\n",
       "    }\n",
       "\n",
       "  }\n",
       "\n",
       "  if (window._bokeh_is_loading === 0) {\n",
       "    console.log(\"Bokeh: BokehJS loaded, going straight to plotting\");\n",
       "    run_inline_js();\n",
       "  } else {\n",
       "    load_libs(js_urls, function() {\n",
       "      console.log(\"Bokeh: BokehJS plotting callback run at\", now());\n",
       "      run_inline_js();\n",
       "    });\n",
       "  }\n",
       "}(this));"
      ]
     },
     "metadata": {},
     "output_type": "display_data"
    }
   ],
   "source": [
    "from bokeh.models import ColumnDataSource, LabelSet\n",
    "from bokeh.plotting import figure, show, output_file\n",
    "from bokeh.io import output_notebook\n",
    "output_notebook()"
   ]
  },
  {
   "cell_type": "markdown",
   "metadata": {},
   "source": [
    "### Part 0: Download the TED dataset"
   ]
  },
  {
   "cell_type": "code",
   "execution_count": 3,
   "metadata": {
    "collapsed": false
   },
   "outputs": [],
   "source": [
    "# import urllib.request\n",
    "from urllib2 import urlopen \n",
    "import zipfile\n",
    "import lxml.etree"
   ]
  },
  {
   "cell_type": "code",
   "execution_count": 4,
   "metadata": {
    "collapsed": false
   },
   "outputs": [],
   "source": [
    "# Download the dataset if it's not already there: this may take a minute as it is 75MB\n",
    "if not os.path.isfile('ted_en-20160408.zip'):\n",
    "    urlopen(\"https://wit3.fbk.eu/get.php?path=XML_releases/xml/ted_en-20160408.zip&filename=ted_en-20160408.zip\")"
   ]
  },
  {
   "cell_type": "code",
   "execution_count": 5,
   "metadata": {
    "collapsed": false
   },
   "outputs": [],
   "source": [
    "# For now, we're only interested in the subtitle text, so let's extract that from the XML:\n",
    "with zipfile.ZipFile('ted_en-20160408.zip', 'r') as z:\n",
    "    doc = lxml.etree.parse(z.open('ted_en-20160408.xml', 'r'))\n",
    "input_text = '\\n'.join(doc.xpath('//content/text()'))\n",
    "del doc"
   ]
  },
  {
   "cell_type": "markdown",
   "metadata": {},
   "source": [
    "### Part 1: Preprocessing\n",
    "\n",
    "In this part, we attempt to clean up the raw subtitles a bit, so that we get only sentences. The following substring shows examples of what we're trying to get rid of. Since it's hard to define precisely what we want to get rid of, we'll just use some simple heuristics."
   ]
  },
  {
   "cell_type": "code",
   "execution_count": 6,
   "metadata": {
    "collapsed": false,
    "scrolled": false
   },
   "outputs": [
    {
     "data": {
      "text/plain": [
       "u' baby does.\\n(Video) Hyowon Gweon: See this? (Ball squeaks) Did you see that? (Ball squeaks) Cool. See this one? (Ball squeaks) Wow.\\nLaura Schulz: Told you. (Laughs)\\n(Vide'"
      ]
     },
     "execution_count": 6,
     "metadata": {},
     "output_type": "execute_result"
    }
   ],
   "source": [
    "i = input_text.find(\"Hyowon Gweon: See this?\")\n",
    "input_text[i-20:i+150]"
   ]
  },
  {
   "cell_type": "markdown",
   "metadata": {},
   "source": [
    "Let's start by removing all parenthesized strings using a regex:"
   ]
  },
  {
   "cell_type": "code",
   "execution_count": 7,
   "metadata": {
    "collapsed": true
   },
   "outputs": [],
   "source": [
    "input_text_noparens = re.sub(r'\\([^)]*\\)', '', input_text)"
   ]
  },
  {
   "cell_type": "markdown",
   "metadata": {},
   "source": [
    "We can verify the same location in the text is now clean as follows. We won't worry about the irregular spaces since we'll later split the text into sentences and tokenize it anyway."
   ]
  },
  {
   "cell_type": "code",
   "execution_count": 8,
   "metadata": {
    "collapsed": false
   },
   "outputs": [
    {
     "data": {
      "text/plain": [
       "u\"hat the baby does.\\n Hyowon Gweon: See this?  Did you see that?  Cool. See this one?  Wow.\\nLaura Schulz: Told you. \\n HG: See this one?  Hey Clara, this one's for you. You \""
      ]
     },
     "execution_count": 8,
     "metadata": {},
     "output_type": "execute_result"
    }
   ],
   "source": [
    "i = input_text_noparens.find(\"Hyowon Gweon: See this?\")\n",
    "input_text_noparens[i-20:i+150]"
   ]
  },
  {
   "cell_type": "markdown",
   "metadata": {},
   "source": [
    "Now, let's attempt to remove speakers' names that occur at the beginning of a line, by deleting pieces of the form \"`<up to 20 characters>:`\", as shown in this example. Of course, this is an imperfect heuristic. "
   ]
  },
  {
   "cell_type": "code",
   "execution_count": 9,
   "metadata": {
    "collapsed": false
   },
   "outputs": [
    {
     "data": {
      "text/plain": [
       "[u\"Here are two reasons companies fail: they only do more of the same, or they only do what's new\",\n",
       " u'To me the real, real solution to quality growth is figuring out the balance between two activities: exploration and exploitation',\n",
       " u' Both are necessary, but it can be too much of a good thing',\n",
       " u'Consider Facit',\n",
       " u\" I'm actually old enough to remember them\"]"
      ]
     },
     "execution_count": 9,
     "metadata": {},
     "output_type": "execute_result"
    }
   ],
   "source": [
    "sentences_strings_ted = []\n",
    "for line in input_text_noparens.split('\\n'):\n",
    "    m = re.match(r'^(?:(?P<precolon>[^:]{,20}):)?(?P<postcolon>.*)$', line)\n",
    "    sentences_strings_ted.extend(sent for sent in m.groupdict()['postcolon'].split('.') if sent)\n",
    "\n",
    "# Uncomment if you need to save some RAM: these strings are about 50MB.\n",
    "del input_text, input_text_noparens\n",
    "\n",
    "# Let's view the first few:\n",
    "sentences_strings_ted[:5]"
   ]
  },
  {
   "cell_type": "markdown",
   "metadata": {},
   "source": [
    "Now that we have sentences, we're ready to tokenize each of them into words. This tokenization is imperfect, of course. For instance, how many tokens is \"can't\", and where/how do we split it? We'll take the simplest naive approach of splitting on spaces. Before splitting, we remove non-alphanumeric characters, such as punctuation. You may want to consider the following question: why do we replace these characters with spaces rather than deleting them? Think of a case where this yields a different answer."
   ]
  },
  {
   "cell_type": "code",
   "execution_count": 10,
   "metadata": {
    "collapsed": false
   },
   "outputs": [],
   "source": [
    "sentences_ted = []\n",
    "for sent_str in sentences_strings_ted:\n",
    "    tokens = re.sub(r\"[^a-z0-9]+\", \" \", sent_str.lower()).split()\n",
    "    sentences_ted.append(tokens)"
   ]
  },
  {
   "cell_type": "markdown",
   "metadata": {},
   "source": [
    "Two sample processed sentences:"
   ]
  },
  {
   "cell_type": "code",
   "execution_count": 11,
   "metadata": {
    "collapsed": false
   },
   "outputs": [
    {
     "data": {
      "text/plain": [
       "266694"
      ]
     },
     "execution_count": 11,
     "metadata": {},
     "output_type": "execute_result"
    }
   ],
   "source": [
    "len(sentences_ted)"
   ]
  },
  {
   "cell_type": "code",
   "execution_count": 12,
   "metadata": {
    "collapsed": false
   },
   "outputs": [
    {
     "name": "stdout",
     "output_type": "stream",
     "text": [
      "[u'here', u'are', u'two', u'reasons', u'companies', u'fail', u'they', u'only', u'do', u'more', u'of', u'the', u'same', u'or', u'they', u'only', u'do', u'what', u's', u'new']\n",
      "[u'to', u'me', u'the', u'real', u'real', u'solution', u'to', u'quality', u'growth', u'is', u'figuring', u'out', u'the', u'balance', u'between', u'two', u'activities', u'exploration', u'and', u'exploitation']\n"
     ]
    }
   ],
   "source": [
    "print(sentences_ted[0])\n",
    "print(sentences_ted[1])"
   ]
  },
  {
   "cell_type": "markdown",
   "metadata": {},
   "source": [
    "### Part 2: Word Frequencies"
   ]
  },
  {
   "cell_type": "markdown",
   "metadata": {},
   "source": [
    "If you store the counts of the top 1000 words in a list called `counts_ted_top1000`, the code below will plot the histogram requested in the writeup."
   ]
  },
  {
   "cell_type": "code",
   "execution_count": 13,
   "metadata": {
    "collapsed": false
   },
   "outputs": [],
   "source": [
    "# ...\n",
    "from collections import Counter\n",
    "\n",
    "C = Counter()\n",
    "\n",
    "for s in sentences_ted:\n",
    "    C.update(s)\n",
    "\n",
    "counts_ted_top1000 = [y[1] for y in C.most_common(1000)]"
   ]
  },
  {
   "cell_type": "markdown",
   "metadata": {},
   "source": [
    "Plot distribution of top-1000 words"
   ]
  },
  {
   "cell_type": "code",
   "execution_count": 14,
   "metadata": {
    "collapsed": false
   },
   "outputs": [
    {
     "data": {
      "text/html": [
       "\n",
       "\n",
       "    <div class=\"bk-root\">\n",
       "        <div class=\"bk-plotdiv\" id=\"57098b6a-f955-4915-9a51-cf7676db9c46\"></div>\n",
       "    </div>\n",
       "<script type=\"text/javascript\">\n",
       "  \n",
       "  (function(global) {\n",
       "    function now() {\n",
       "      return new Date();\n",
       "    }\n",
       "  \n",
       "    var force = false;\n",
       "  \n",
       "    if (typeof (window._bokeh_onload_callbacks) === \"undefined\" || force === true) {\n",
       "      window._bokeh_onload_callbacks = [];\n",
       "      window._bokeh_is_loading = undefined;\n",
       "    }\n",
       "  \n",
       "  \n",
       "    \n",
       "    if (typeof (window._bokeh_timeout) === \"undefined\" || force === true) {\n",
       "      window._bokeh_timeout = Date.now() + 0;\n",
       "      window._bokeh_failed_load = false;\n",
       "    }\n",
       "  \n",
       "    var NB_LOAD_WARNING = {'data': {'text/html':\n",
       "       \"<div style='background-color: #fdd'>\\n\"+\n",
       "       \"<p>\\n\"+\n",
       "       \"BokehJS does not appear to have successfully loaded. If loading BokehJS from CDN, this \\n\"+\n",
       "       \"may be due to a slow or bad network connection. Possible fixes:\\n\"+\n",
       "       \"</p>\\n\"+\n",
       "       \"<ul>\\n\"+\n",
       "       \"<li>re-rerun `output_notebook()` to attempt to load from CDN again, or</li>\\n\"+\n",
       "       \"<li>use INLINE resources instead, as so:</li>\\n\"+\n",
       "       \"</ul>\\n\"+\n",
       "       \"<code>\\n\"+\n",
       "       \"from bokeh.resources import INLINE\\n\"+\n",
       "       \"output_notebook(resources=INLINE)\\n\"+\n",
       "       \"</code>\\n\"+\n",
       "       \"</div>\"}};\n",
       "  \n",
       "    function display_loaded() {\n",
       "      if (window.Bokeh !== undefined) {\n",
       "        document.getElementById(\"57098b6a-f955-4915-9a51-cf7676db9c46\").textContent = \"BokehJS successfully loaded.\";\n",
       "      } else if (Date.now() < window._bokeh_timeout) {\n",
       "        setTimeout(display_loaded, 100)\n",
       "      }\n",
       "    }\n",
       "  \n",
       "    function run_callbacks() {\n",
       "      window._bokeh_onload_callbacks.forEach(function(callback) { callback() });\n",
       "      delete window._bokeh_onload_callbacks\n",
       "      console.info(\"Bokeh: all callbacks have finished\");\n",
       "    }\n",
       "  \n",
       "    function load_libs(js_urls, callback) {\n",
       "      window._bokeh_onload_callbacks.push(callback);\n",
       "      if (window._bokeh_is_loading > 0) {\n",
       "        console.log(\"Bokeh: BokehJS is being loaded, scheduling callback at\", now());\n",
       "        return null;\n",
       "      }\n",
       "      if (js_urls == null || js_urls.length === 0) {\n",
       "        run_callbacks();\n",
       "        return null;\n",
       "      }\n",
       "      console.log(\"Bokeh: BokehJS not loaded, scheduling load and callback at\", now());\n",
       "      window._bokeh_is_loading = js_urls.length;\n",
       "      for (var i = 0; i < js_urls.length; i++) {\n",
       "        var url = js_urls[i];\n",
       "        var s = document.createElement('script');\n",
       "        s.src = url;\n",
       "        s.async = false;\n",
       "        s.onreadystatechange = s.onload = function() {\n",
       "          window._bokeh_is_loading--;\n",
       "          if (window._bokeh_is_loading === 0) {\n",
       "            console.log(\"Bokeh: all BokehJS libraries loaded\");\n",
       "            run_callbacks()\n",
       "          }\n",
       "        };\n",
       "        s.onerror = function() {\n",
       "          console.warn(\"failed to load library \" + url);\n",
       "        };\n",
       "        console.log(\"Bokeh: injecting script tag for BokehJS library: \", url);\n",
       "        document.getElementsByTagName(\"head\")[0].appendChild(s);\n",
       "      }\n",
       "    };var element = document.getElementById(\"57098b6a-f955-4915-9a51-cf7676db9c46\");\n",
       "    if (element == null) {\n",
       "      console.log(\"Bokeh: ERROR: autoload.js configured with elementid '57098b6a-f955-4915-9a51-cf7676db9c46' but no matching script tag was found. \")\n",
       "      return false;\n",
       "    }\n",
       "  \n",
       "    var js_urls = [];\n",
       "  \n",
       "    var inline_js = [\n",
       "      function(Bokeh) {\n",
       "        (function() {\n",
       "          var fn = function() {\n",
       "            var docs_json = {\"d21692da-5f6d-4039-9bd5-69bd5764faf2\":{\"roots\":{\"references\":[{\"attributes\":{},\"id\":\"299bd159-27b9-4807-bf2e-e9e721ebd4d2\",\"type\":\"BasicTickFormatter\"},{\"attributes\":{},\"id\":\"1bcb366c-c581-4135-a75e-88c35695e9e4\",\"type\":\"ToolEvents\"},{\"attributes\":{},\"id\":\"ba97e2ca-f0de-4c3d-9601-0f757bc4413b\",\"type\":\"BasicTicker\"},{\"attributes\":{\"bottom\":{\"value\":0},\"fill_color\":{\"value\":\"#1f77b4\"},\"left\":{\"field\":\"left\"},\"line_color\":{\"value\":\"#555555\"},\"right\":{\"field\":\"right\"},\"top\":{\"field\":\"top\"}},\"id\":\"8e3b7a03-6395-443b-a56b-e7a168cb271d\",\"type\":\"Quad\"},{\"attributes\":{},\"id\":\"56d8b00c-ecff-4408-8fa8-9e90dba85005\",\"type\":\"BasicTicker\"},{\"attributes\":{\"formatter\":{\"id\":\"a1a8b82b-594e-40eb-949a-db0ad80372e9\",\"type\":\"BasicTickFormatter\"},\"plot\":{\"id\":\"2a70fdf2-022b-4dc4-a3e1-8692cb43e255\",\"subtype\":\"Figure\",\"type\":\"Plot\"},\"ticker\":{\"id\":\"ba97e2ca-f0de-4c3d-9601-0f757bc4413b\",\"type\":\"BasicTicker\"}},\"id\":\"eed304f5-dc96-4e0a-a9ef-8608a2b3b080\",\"type\":\"LinearAxis\"},{\"attributes\":{\"callback\":null},\"id\":\"909066ce-45d6-42be-ad37-abfed91edff2\",\"type\":\"DataRange1d\"},{\"attributes\":{\"plot\":{\"id\":\"2a70fdf2-022b-4dc4-a3e1-8692cb43e255\",\"subtype\":\"Figure\",\"type\":\"Plot\"},\"ticker\":{\"id\":\"ba97e2ca-f0de-4c3d-9601-0f757bc4413b\",\"type\":\"BasicTicker\"}},\"id\":\"632597f0-d6ed-4c22-9fed-13a0263bd54a\",\"type\":\"Grid\"},{\"attributes\":{\"plot\":{\"id\":\"2a70fdf2-022b-4dc4-a3e1-8692cb43e255\",\"subtype\":\"Figure\",\"type\":\"Plot\"}},\"id\":\"2f5ed4a5-6745-45a2-a428-5bbb95b9a1c7\",\"type\":\"ResetTool\"},{\"attributes\":{\"dimension\":1,\"plot\":{\"id\":\"2a70fdf2-022b-4dc4-a3e1-8692cb43e255\",\"subtype\":\"Figure\",\"type\":\"Plot\"},\"ticker\":{\"id\":\"56d8b00c-ecff-4408-8fa8-9e90dba85005\",\"type\":\"BasicTicker\"}},\"id\":\"fc96ff49-e1c0-44c1-bfbf-1cf95283faa2\",\"type\":\"Grid\"},{\"attributes\":{\"active_drag\":\"auto\",\"active_scroll\":\"auto\",\"active_tap\":\"auto\",\"tools\":[{\"id\":\"4f5a4726-b1fe-4391-81b5-42da80f5d58f\",\"type\":\"PanTool\"},{\"id\":\"a734e589-9cde-4488-839a-044c2b7219da\",\"type\":\"WheelZoomTool\"},{\"id\":\"2f5ed4a5-6745-45a2-a428-5bbb95b9a1c7\",\"type\":\"ResetTool\"},{\"id\":\"4e73a897-29d2-465a-bd06-a5be4da17b40\",\"type\":\"SaveTool\"}]},\"id\":\"c1fe3fd2-ab42-4602-a86a-a3b93ae04076\",\"type\":\"Toolbar\"},{\"attributes\":{\"below\":[{\"id\":\"eed304f5-dc96-4e0a-a9ef-8608a2b3b080\",\"type\":\"LinearAxis\"}],\"left\":[{\"id\":\"467f083d-1e78-4419-8c43-b7c8e6052e50\",\"type\":\"LinearAxis\"}],\"renderers\":[{\"id\":\"eed304f5-dc96-4e0a-a9ef-8608a2b3b080\",\"type\":\"LinearAxis\"},{\"id\":\"632597f0-d6ed-4c22-9fed-13a0263bd54a\",\"type\":\"Grid\"},{\"id\":\"467f083d-1e78-4419-8c43-b7c8e6052e50\",\"type\":\"LinearAxis\"},{\"id\":\"fc96ff49-e1c0-44c1-bfbf-1cf95283faa2\",\"type\":\"Grid\"},{\"id\":\"bdb4a6af-3942-4df7-86cd-7104ef67ade6\",\"type\":\"GlyphRenderer\"}],\"title\":{\"id\":\"e951088f-0507-4ce4-a5d9-48a823a0b64d\",\"type\":\"Title\"},\"tool_events\":{\"id\":\"1bcb366c-c581-4135-a75e-88c35695e9e4\",\"type\":\"ToolEvents\"},\"toolbar\":{\"id\":\"c1fe3fd2-ab42-4602-a86a-a3b93ae04076\",\"type\":\"Toolbar\"},\"toolbar_location\":\"above\",\"x_range\":{\"id\":\"909066ce-45d6-42be-ad37-abfed91edff2\",\"type\":\"DataRange1d\"},\"y_range\":{\"id\":\"f6d32fc8-10bf-45c1-8673-2386a93148a4\",\"type\":\"DataRange1d\"}},\"id\":\"2a70fdf2-022b-4dc4-a3e1-8692cb43e255\",\"subtype\":\"Figure\",\"type\":\"Plot\"},{\"attributes\":{\"plot\":null,\"text\":\"Top-1000 words distribution\"},\"id\":\"e951088f-0507-4ce4-a5d9-48a823a0b64d\",\"type\":\"Title\"},{\"attributes\":{\"bottom\":{\"value\":0},\"fill_alpha\":{\"value\":0.1},\"fill_color\":{\"value\":\"#1f77b4\"},\"left\":{\"field\":\"left\"},\"line_alpha\":{\"value\":0.1},\"line_color\":{\"value\":\"#1f77b4\"},\"right\":{\"field\":\"right\"},\"top\":{\"field\":\"top\"}},\"id\":\"324e6b5d-4d6c-4486-8cc6-62bb0e79f88e\",\"type\":\"Quad\"},{\"attributes\":{\"plot\":{\"id\":\"2a70fdf2-022b-4dc4-a3e1-8692cb43e255\",\"subtype\":\"Figure\",\"type\":\"Plot\"}},\"id\":\"a734e589-9cde-4488-839a-044c2b7219da\",\"type\":\"WheelZoomTool\"},{\"attributes\":{\"callback\":null},\"id\":\"f6d32fc8-10bf-45c1-8673-2386a93148a4\",\"type\":\"DataRange1d\"},{\"attributes\":{},\"id\":\"a1a8b82b-594e-40eb-949a-db0ad80372e9\",\"type\":\"BasicTickFormatter\"},{\"attributes\":{\"plot\":{\"id\":\"2a70fdf2-022b-4dc4-a3e1-8692cb43e255\",\"subtype\":\"Figure\",\"type\":\"Plot\"}},\"id\":\"4e73a897-29d2-465a-bd06-a5be4da17b40\",\"type\":\"SaveTool\"},{\"attributes\":{\"formatter\":{\"id\":\"299bd159-27b9-4807-bf2e-e9e721ebd4d2\",\"type\":\"BasicTickFormatter\"},\"plot\":{\"id\":\"2a70fdf2-022b-4dc4-a3e1-8692cb43e255\",\"subtype\":\"Figure\",\"type\":\"Plot\"},\"ticker\":{\"id\":\"56d8b00c-ecff-4408-8fa8-9e90dba85005\",\"type\":\"BasicTicker\"}},\"id\":\"467f083d-1e78-4419-8c43-b7c8e6052e50\",\"type\":\"LinearAxis\"},{\"attributes\":{\"callback\":null,\"column_names\":[\"top\",\"right\",\"left\"],\"data\":{\"left\":{\"__ndarray__\":\"AAAAAABAeUB7FK5H4VqjQHsUrkfhxrFAuB6F61HguUB7FK5H4fzAQJqZmZmZCcVAuB6F61EWyUDXo3A9CiPNQHsUrkfhl9BACtejcD2e0kCamZmZmaTUQClcj8L1qtZAuB6F61Gx2EBI4XoUrrfaQNejcD0KvtxAZ2ZmZmbE3kB7FK5HYWXgQMP1KFyPaOFACtejcL1r4kBSuB6F627jQJqZmZkZcuRA4XoUrkd15UApXI/CdXjmQHE9Cteje+dAuB6F69F+6EAAAAAAAILpQEjhehQuhepAkML1KFyI60DXo3A9iovsQB+F61G4ju1AZ2ZmZuaR7kCuR+F6FJXvQHsUrkchTPBAH4XrUbjN8EDD9ShcT0/xQGdmZmbm0PFACtejcH1S8kCuR+F6FNTyQFK4HoWrVfNA9ihcj0LX80CamZmZ2Vj0QD4K16Nw2vRA4XoUrgdc9UCF61G4nt31QClcj8I1X/ZAzczMzMzg9kBxPQrXY2L3QBWuR+H64/dAuB6F65Fl+EBcj8L1KOf4QAAAAADAaPlApHA9Clfq+UBI4XoU7mv6QOxRuB6F7fpAkML1KBxv+0AzMzMzs/D7QNejcD1KcvxAexSuR+Hz/EAfhetReHX9QMP1KFwP9/1AZ2ZmZqZ4/kAK16NwPfr+QK5H4XrUe/9AUrgehWv9/0B7FK5HgT8AQc3MzMxMgABBH4XrURjBAEFxPQrX4wEBQcP1KFyvQgFBFa5H4XqDAUFnZmZmRsQBQbgehesRBQJBCtejcN1FAkFcj8L1qIYCQa5H4Xp0xwJBAAAAAEAIA0FSuB6FC0kDQaRwPQrXiQNB9ihcj6LKA0FI4XoUbgsEQZqZmZk5TARB7FG4HgWNBEE+Ctej0M0EQZDC9SicDgVB4XoUrmdPBUEzMzMzM5AFQYXrUbj+0AVB16NwPcoRBkEpXI/ClVIGQXsUrkdhkwZBzczMzCzUBkEfhetR+BQHQXE9CtfDVQdBw/UoXI+WB0EVrkfhWtcHQWdmZmYmGAhBuB6F6/FYCEEK16NwvZkIQVyPwvWI2ghBrkfhelQbCUE=\",\"dtype\":\"float64\",\"shape\":[100]},\"right\":{\"__ndarray__\":\"exSuR+Fao0B7FK5H4caxQLgehetR4LlAexSuR+H8wECamZmZmQnFQLgehetRFslA16NwPQojzUB7FK5H4ZfQQArXo3A9ntJAmpmZmZmk1EApXI/C9arWQLgehetRsdhASOF6FK632kDXo3A9Cr7cQGdmZmZmxN5AexSuR2Fl4EDD9Shcj2jhQArXo3C9a+JAUrgehetu40CamZmZGXLkQOF6FK5HdeVAKVyPwnV45kBxPQrXo3vnQLgehevRfuhAAAAAAACC6UBI4XoULoXqQJDC9ShciOtA16NwPYqL7EAfhetRuI7tQGdmZmbmke5ArkfhehSV70B7FK5HIUzwQB+F61G4zfBAw/UoXE9P8UBnZmZm5tDxQArXo3B9UvJArkfhehTU8kBSuB6Fq1XzQPYoXI9C1/NAmpmZmdlY9EA+CtejcNr0QOF6FK4HXPVAhetRuJ7d9UApXI/CNV/2QM3MzMzM4PZAcT0K12Ni90AVrkfh+uP3QLgeheuRZfhAXI/C9Sjn+EAAAAAAwGj5QKRwPQpX6vlASOF6FO5r+kDsUbgehe36QJDC9Sgcb/tAMzMzM7Pw+0DXo3A9SnL8QHsUrkfh8/xAH4XrUXh1/UDD9ShcD/f9QGdmZmameP5ACtejcD36/kCuR+F61Hv/QFK4HoVr/f9AexSuR4E/AEHNzMzMTIAAQR+F61EYwQBBcT0K1+MBAUHD9Shcr0IBQRWuR+F6gwFBZ2ZmZkbEAUG4HoXrEQUCQQrXo3DdRQJBXI/C9aiGAkGuR+F6dMcCQQAAAABACANBUrgehQtJA0GkcD0K14kDQfYoXI+iygNBSOF6FG4LBEGamZmZOUwEQexRuB4FjQRBPgrXo9DNBEGQwvUonA4FQeF6FK5nTwVBMzMzMzOQBUGF61G4/tAFQdejcD3KEQZBKVyPwpVSBkF7FK5HYZMGQc3MzMws1AZBH4XrUfgUB0FxPQrXw1UHQcP1KFyPlgdBFa5H4VrXB0FnZmZmJhgIQbgehevxWAhBCtejcL2ZCEFcj8L1iNoIQa5H4XpUGwlBAAAAACBcCUE=\",\"dtype\":\"float64\",\"shape\":[100]},\"top\":{\"__ndarray__\":\"50H1zNSBOT/ypb1tgHIBPwsriUb5Uew+zuTFiLI04j78kGUPxTHhPh40R25oQNY+zuTFiLI00j4pPQWW1y7APsTbB2FDRsg+JT0FltcuwD4tPQWW1y6wPi09BZbXLrA+JT0FltcuwD4tPQWW1y6gPiU9BZbXLrA+LT0FltcuoD4AAAAAAAAAADU9BZbXLqA+AAAAAAAAAAAAAAAAAAAAAAAAAAAAAAAAAAAAAAAAAAAAAAAAAAAAADU9BZbXLqA+AAAAAAAAAAAAAAAAAAAAAAAAAAAAAAAANT0FltcuoD4AAAAAAAAAAAAAAAAAAAAANT0FltcuoD4AAAAAAAAAACU9BZbXLqA+AAAAAAAAAAAlPQWW1y6gPkU9BZbXLqA+AAAAAAAAAAAlPQWW1y6gPgAAAAAAAAAAJT0FltcuoD4AAAAAAAAAAAAAAAAAAAAAAAAAAAAAAAAAAAAAAAAAAAAAAAAAAAAAJT0FltcuoD4AAAAAAAAAAAAAAAAAAAAAAAAAAAAAAAAAAAAAAAAAACU9BZbXLqA+AAAAAAAAAAAAAAAAAAAAAAAAAAAAAAAAAAAAAAAAAAAlPQWW1y6gPgAAAAAAAAAAAAAAAAAAAAAAAAAAAAAAAAAAAAAAAAAART0FltcuoD4AAAAAAAAAAAAAAAAAAAAAAAAAAAAAAAAAAAAAAAAAAAAAAAAAAAAAAAAAAAAAAAAAAAAAAAAAAAAAAAAAAAAAAAAAAAAAAAAAAAAAAAAAACU9BZbXLqA+AAAAAAAAAAAAAAAAAAAAAAAAAAAAAAAAAAAAAAAAAAAAAAAAAAAAAAAAAAAAAAAAAAAAAAAAAAAAAAAAAAAAAAAAAAAAAAAAAAAAAAAAAAAAAAAAAAAAAAAAAAAAAAAAAAAAAAAAAAAAAAAAAAAAAAAAAAAAAAAAAAAAAAAAAAAAAAAAAAAAAAAAAAAAAAAAAAAAAAAAAAAAAAAAAAAAAAAAAAAAAAAAAAAAAAAAAAAAAAAAAAAAAAAAAAAAAAAAAAAAAAAAAAAAAAAAAAAAAAAAAAAAAAAAJT0FltcuoD4=\",\"dtype\":\"float64\",\"shape\":[100]}}},\"id\":\"218e8e70-6353-4d95-a92f-63bf82ede2be\",\"type\":\"ColumnDataSource\"},{\"attributes\":{\"data_source\":{\"id\":\"218e8e70-6353-4d95-a92f-63bf82ede2be\",\"type\":\"ColumnDataSource\"},\"glyph\":{\"id\":\"8e3b7a03-6395-443b-a56b-e7a168cb271d\",\"type\":\"Quad\"},\"hover_glyph\":null,\"nonselection_glyph\":{\"id\":\"324e6b5d-4d6c-4486-8cc6-62bb0e79f88e\",\"type\":\"Quad\"},\"selection_glyph\":null},\"id\":\"bdb4a6af-3942-4df7-86cd-7104ef67ade6\",\"type\":\"GlyphRenderer\"},{\"attributes\":{\"plot\":{\"id\":\"2a70fdf2-022b-4dc4-a3e1-8692cb43e255\",\"subtype\":\"Figure\",\"type\":\"Plot\"}},\"id\":\"4f5a4726-b1fe-4391-81b5-42da80f5d58f\",\"type\":\"PanTool\"}],\"root_ids\":[\"2a70fdf2-022b-4dc4-a3e1-8692cb43e255\"]},\"title\":\"Bokeh Application\",\"version\":\"0.12.4\"}};\n",
       "            var render_items = [{\"docid\":\"d21692da-5f6d-4039-9bd5-69bd5764faf2\",\"elementid\":\"57098b6a-f955-4915-9a51-cf7676db9c46\",\"modelid\":\"2a70fdf2-022b-4dc4-a3e1-8692cb43e255\"}];\n",
       "            \n",
       "            Bokeh.embed.embed_items(docs_json, render_items);\n",
       "          };\n",
       "          if (document.readyState != \"loading\") fn();\n",
       "          else document.addEventListener(\"DOMContentLoaded\", fn);\n",
       "        })();\n",
       "      },\n",
       "      function(Bokeh) {\n",
       "      }\n",
       "    ];\n",
       "  \n",
       "    function run_inline_js() {\n",
       "      \n",
       "      if ((window.Bokeh !== undefined) || (force === true)) {\n",
       "        for (var i = 0; i < inline_js.length; i++) {\n",
       "          inline_js[i](window.Bokeh);\n",
       "        }if (force === true) {\n",
       "          display_loaded();\n",
       "        }} else if (Date.now() < window._bokeh_timeout) {\n",
       "        setTimeout(run_inline_js, 100);\n",
       "      } else if (!window._bokeh_failed_load) {\n",
       "        console.log(\"Bokeh: BokehJS failed to load within specified timeout.\");\n",
       "        window._bokeh_failed_load = true;\n",
       "      } else if (force !== true) {\n",
       "        var cell = $(document.getElementById(\"57098b6a-f955-4915-9a51-cf7676db9c46\")).parents('.cell').data().cell;\n",
       "        cell.output_area.append_execute_result(NB_LOAD_WARNING)\n",
       "      }\n",
       "  \n",
       "    }\n",
       "  \n",
       "    if (window._bokeh_is_loading === 0) {\n",
       "      console.log(\"Bokeh: BokehJS loaded, going straight to plotting\");\n",
       "      run_inline_js();\n",
       "    } else {\n",
       "      load_libs(js_urls, function() {\n",
       "        console.log(\"Bokeh: BokehJS plotting callback run at\", now());\n",
       "        run_inline_js();\n",
       "      });\n",
       "    }\n",
       "  }(this));\n",
       "</script>"
      ]
     },
     "metadata": {},
     "output_type": "display_data"
    }
   ],
   "source": [
    "hist, edges = np.histogram(counts_ted_top1000, density=True, bins=100, normed=True)\n",
    "\n",
    "p = figure(tools=\"pan,wheel_zoom,reset,save\",\n",
    "           toolbar_location=\"above\",\n",
    "           title=\"Top-1000 words distribution\")\n",
    "p.quad(top=hist, bottom=0, left=edges[:-1], right=edges[1:], line_color=\"#555555\")\n",
    "show(p)"
   ]
  },
  {
   "cell_type": "markdown",
   "metadata": {},
   "source": [
    "### Part 3: Train Word2Vec"
   ]
  },
  {
   "cell_type": "code",
   "execution_count": 15,
   "metadata": {
    "collapsed": false
   },
   "outputs": [],
   "source": [
    "from gensim.models import Word2Vec"
   ]
  },
  {
   "cell_type": "code",
   "execution_count": 19,
   "metadata": {
    "collapsed": false
   },
   "outputs": [],
   "source": [
    "model_ted = Word2Vec(sentences_ted, size=100, window=5, min_count=5, workers=4)"
   ]
  },
  {
   "cell_type": "markdown",
   "metadata": {},
   "source": [
    "### Part 4: Ted Learnt Representations"
   ]
  },
  {
   "cell_type": "markdown",
   "metadata": {},
   "source": [
    "Finding similar words: (see gensim docs for more functionality of `most_similar`)"
   ]
  },
  {
   "cell_type": "code",
   "execution_count": 20,
   "metadata": {
    "collapsed": false
   },
   "outputs": [
    {
     "data": {
      "text/plain": [
       "[(u'woman', 0.7611470222473145),\n",
       " (u'guy', 0.7087076902389526),\n",
       " (u'boy', 0.6681430339813232),\n",
       " (u'girl', 0.6399103403091431),\n",
       " (u'lady', 0.6203121542930603),\n",
       " (u'named', 0.599031388759613),\n",
       " (u'son', 0.5514838099479675),\n",
       " (u'alexander', 0.5435789823532104),\n",
       " (u'soldier', 0.5422187447547913),\n",
       " (u'shepherd', 0.5404754877090454)]"
      ]
     },
     "execution_count": 20,
     "metadata": {},
     "output_type": "execute_result"
    }
   ],
   "source": [
    "model_ted.most_similar(\"man\")"
   ]
  },
  {
   "cell_type": "code",
   "execution_count": 21,
   "metadata": {
    "collapsed": false
   },
   "outputs": [
    {
     "data": {
      "text/plain": [
       "[(u'machine', 0.5658723711967468),\n",
       " (u'chip', 0.5507748126983643),\n",
       " (u'software', 0.5503519773483276),\n",
       " (u'kinect', 0.5322654247283936),\n",
       " (u'desktop', 0.530328094959259),\n",
       " (u'simulation', 0.5278381705284119),\n",
       " (u'game', 0.5260859131813049),\n",
       " (u'mechanical', 0.5208471417427063),\n",
       " (u'program', 0.5181350708007812),\n",
       " (u'controller', 0.5123871564865112)]"
      ]
     },
     "execution_count": 21,
     "metadata": {},
     "output_type": "execute_result"
    }
   ],
   "source": [
    "model_ted.most_similar(\"computer\")"
   ]
  },
  {
   "cell_type": "markdown",
   "metadata": {},
   "source": [
    "#### t-SNE visualization\n",
    "To use the t-SNE code below, first put a list of the top 1000 words (as strings) into a variable `words_top_ted`. The following code gets the corresponding vectors from the model, assuming it's called `model_ted`:"
   ]
  },
  {
   "cell_type": "code",
   "execution_count": 24,
   "metadata": {
    "collapsed": false
   },
   "outputs": [],
   "source": [
    "# This assumes words_top_ted is a list of strings, the top 1000 words\n",
    "\n",
    "words_top_ted = [y[0] for y in C.most_common(1000)]\n",
    "words_top_vec_ted = model_ted[words_top_ted]"
   ]
  },
  {
   "cell_type": "code",
   "execution_count": 25,
   "metadata": {
    "collapsed": false
   },
   "outputs": [],
   "source": [
    "from sklearn.manifold import TSNE\n",
    "tsne = TSNE(n_components=2, random_state=0)\n",
    "words_top_ted_tsne = tsne.fit_transform(words_top_vec_ted)"
   ]
  },
  {
   "cell_type": "code",
   "execution_count": 26,
   "metadata": {
    "collapsed": false
   },
   "outputs": [
    {
     "data": {
      "text/html": [
       "\n",
       "\n",
       "    <div class=\"bk-root\">\n",
       "        <div class=\"bk-plotdiv\" id=\"4adbd166-b48e-419a-b6d7-cd3458265b92\"></div>\n",
       "    </div>\n",
       "<script type=\"text/javascript\">\n",
       "  \n",
       "  (function(global) {\n",
       "    function now() {\n",
       "      return new Date();\n",
       "    }\n",
       "  \n",
       "    var force = false;\n",
       "  \n",
       "    if (typeof (window._bokeh_onload_callbacks) === \"undefined\" || force === true) {\n",
       "      window._bokeh_onload_callbacks = [];\n",
       "      window._bokeh_is_loading = undefined;\n",
       "    }\n",
       "  \n",
       "  \n",
       "    \n",
       "    if (typeof (window._bokeh_timeout) === \"undefined\" || force === true) {\n",
       "      window._bokeh_timeout = Date.now() + 0;\n",
       "      window._bokeh_failed_load = false;\n",
       "    }\n",
       "  \n",
       "    var NB_LOAD_WARNING = {'data': {'text/html':\n",
       "       \"<div style='background-color: #fdd'>\\n\"+\n",
       "       \"<p>\\n\"+\n",
       "       \"BokehJS does not appear to have successfully loaded. If loading BokehJS from CDN, this \\n\"+\n",
       "       \"may be due to a slow or bad network connection. Possible fixes:\\n\"+\n",
       "       \"</p>\\n\"+\n",
       "       \"<ul>\\n\"+\n",
       "       \"<li>re-rerun `output_notebook()` to attempt to load from CDN again, or</li>\\n\"+\n",
       "       \"<li>use INLINE resources instead, as so:</li>\\n\"+\n",
       "       \"</ul>\\n\"+\n",
       "       \"<code>\\n\"+\n",
       "       \"from bokeh.resources import INLINE\\n\"+\n",
       "       \"output_notebook(resources=INLINE)\\n\"+\n",
       "       \"</code>\\n\"+\n",
       "       \"</div>\"}};\n",
       "  \n",
       "    function display_loaded() {\n",
       "      if (window.Bokeh !== undefined) {\n",
       "        document.getElementById(\"4adbd166-b48e-419a-b6d7-cd3458265b92\").textContent = \"BokehJS successfully loaded.\";\n",
       "      } else if (Date.now() < window._bokeh_timeout) {\n",
       "        setTimeout(display_loaded, 100)\n",
       "      }\n",
       "    }\n",
       "  \n",
       "    function run_callbacks() {\n",
       "      window._bokeh_onload_callbacks.forEach(function(callback) { callback() });\n",
       "      delete window._bokeh_onload_callbacks\n",
       "      console.info(\"Bokeh: all callbacks have finished\");\n",
       "    }\n",
       "  \n",
       "    function load_libs(js_urls, callback) {\n",
       "      window._bokeh_onload_callbacks.push(callback);\n",
       "      if (window._bokeh_is_loading > 0) {\n",
       "        console.log(\"Bokeh: BokehJS is being loaded, scheduling callback at\", now());\n",
       "        return null;\n",
       "      }\n",
       "      if (js_urls == null || js_urls.length === 0) {\n",
       "        run_callbacks();\n",
       "        return null;\n",
       "      }\n",
       "      console.log(\"Bokeh: BokehJS not loaded, scheduling load and callback at\", now());\n",
       "      window._bokeh_is_loading = js_urls.length;\n",
       "      for (var i = 0; i < js_urls.length; i++) {\n",
       "        var url = js_urls[i];\n",
       "        var s = document.createElement('script');\n",
       "        s.src = url;\n",
       "        s.async = false;\n",
       "        s.onreadystatechange = s.onload = function() {\n",
       "          window._bokeh_is_loading--;\n",
       "          if (window._bokeh_is_loading === 0) {\n",
       "            console.log(\"Bokeh: all BokehJS libraries loaded\");\n",
       "            run_callbacks()\n",
       "          }\n",
       "        };\n",
       "        s.onerror = function() {\n",
       "          console.warn(\"failed to load library \" + url);\n",
       "        };\n",
       "        console.log(\"Bokeh: injecting script tag for BokehJS library: \", url);\n",
       "        document.getElementsByTagName(\"head\")[0].appendChild(s);\n",
       "      }\n",
       "    };var element = document.getElementById(\"4adbd166-b48e-419a-b6d7-cd3458265b92\");\n",
       "    if (element == null) {\n",
       "      console.log(\"Bokeh: ERROR: autoload.js configured with elementid '4adbd166-b48e-419a-b6d7-cd3458265b92' but no matching script tag was found. \")\n",
       "      return false;\n",
       "    }\n",
       "  \n",
       "    var js_urls = [];\n",
       "  \n",
       "    var inline_js = [\n",
       "      function(Bokeh) {\n",
       "        (function() {\n",
       "          var fn = function() {\n",
       "            var docs_json = {\"78be1f9f-0008-4d65-b30c-d712ecfb1aa3\":{\"roots\":{\"references\":[{\"attributes\":{\"data_source\":{\"id\":\"0fd33199-806a-48d5-945e-634e9b8e1882\",\"type\":\"ColumnDataSource\"},\"glyph\":{\"id\":\"86bd9f93-d09e-4be6-8913-1c9d8ef2a9a7\",\"type\":\"Circle\"},\"hover_glyph\":null,\"nonselection_glyph\":{\"id\":\"b0677406-10a6-4654-aa63-0cecc9cf2d90\",\"type\":\"Circle\"},\"selection_glyph\":null},\"id\":\"80cc279c-8cb4-4e33-9661-acb753704a22\",\"type\":\"GlyphRenderer\"},{\"attributes\":{\"plot\":null,\"text\":\"word2vec T-SNE for most common words\"},\"id\":\"56d151ad-8f24-4bff-a0ed-649d0888512f\",\"type\":\"Title\"},{\"attributes\":{\"fill_alpha\":{\"value\":0.1},\"fill_color\":{\"value\":\"#1f77b4\"},\"line_alpha\":{\"value\":0.1},\"line_color\":{\"value\":\"#1f77b4\"},\"size\":{\"units\":\"screen\",\"value\":8},\"x\":{\"field\":\"x1\"},\"y\":{\"field\":\"x2\"}},\"id\":\"b0677406-10a6-4654-aa63-0cecc9cf2d90\",\"type\":\"Circle\"},{\"attributes\":{\"callback\":null},\"id\":\"77ecb5b7-ed69-4ac8-9516-d57a918045c3\",\"type\":\"DataRange1d\"},{\"attributes\":{},\"id\":\"990d3a4d-31e6-4328-8b3f-3958c2b46c4b\",\"type\":\"BasicTicker\"},{\"attributes\":{\"formatter\":{\"id\":\"2f8151b8-2f15-4b4e-b73b-f08a23866dfd\",\"type\":\"BasicTickFormatter\"},\"plot\":{\"id\":\"f6e5dabd-4d74-472a-a51b-d443734dc830\",\"subtype\":\"Figure\",\"type\":\"Plot\"},\"ticker\":{\"id\":\"97f7aa1f-cfc1-4399-b03f-b5943c17ff1b\",\"type\":\"BasicTicker\"}},\"id\":\"8bfe7593-dd27-4e17-8f0d-4d154a3a9b43\",\"type\":\"LinearAxis\"},{\"attributes\":{},\"id\":\"2f8151b8-2f15-4b4e-b73b-f08a23866dfd\",\"type\":\"BasicTickFormatter\"},{\"attributes\":{\"callback\":null},\"id\":\"f9abe0d3-9caa-4401-86f2-956691f41b4c\",\"type\":\"DataRange1d\"},{\"attributes\":{\"fill_color\":{\"value\":\"#1f77b4\"},\"line_color\":{\"value\":\"#1f77b4\"},\"size\":{\"units\":\"screen\",\"value\":8},\"x\":{\"field\":\"x1\"},\"y\":{\"field\":\"x2\"}},\"id\":\"86bd9f93-d09e-4be6-8913-1c9d8ef2a9a7\",\"type\":\"Circle\"},{\"attributes\":{\"formatter\":{\"id\":\"cfc9405e-ae77-4ed0-b8f1-8273f4fa045f\",\"type\":\"BasicTickFormatter\"},\"plot\":{\"id\":\"f6e5dabd-4d74-472a-a51b-d443734dc830\",\"subtype\":\"Figure\",\"type\":\"Plot\"},\"ticker\":{\"id\":\"990d3a4d-31e6-4328-8b3f-3958c2b46c4b\",\"type\":\"BasicTicker\"}},\"id\":\"1c8855f7-ad46-4047-b56a-164bb38daf0b\",\"type\":\"LinearAxis\"},{\"attributes\":{\"dimension\":1,\"plot\":{\"id\":\"f6e5dabd-4d74-472a-a51b-d443734dc830\",\"subtype\":\"Figure\",\"type\":\"Plot\"},\"ticker\":{\"id\":\"97f7aa1f-cfc1-4399-b03f-b5943c17ff1b\",\"type\":\"BasicTicker\"}},\"id\":\"69a78e37-cc83-44b0-881a-fda5ed3b8003\",\"type\":\"Grid\"},{\"attributes\":{},\"id\":\"92c1c84d-0f5e-411a-a252-c63696682843\",\"type\":\"ToolEvents\"},{\"attributes\":{\"below\":[{\"id\":\"1c8855f7-ad46-4047-b56a-164bb38daf0b\",\"type\":\"LinearAxis\"}],\"left\":[{\"id\":\"8bfe7593-dd27-4e17-8f0d-4d154a3a9b43\",\"type\":\"LinearAxis\"}],\"renderers\":[{\"id\":\"1c8855f7-ad46-4047-b56a-164bb38daf0b\",\"type\":\"LinearAxis\"},{\"id\":\"1bd6d461-d9b8-4192-8f01-56e1cc1754e6\",\"type\":\"Grid\"},{\"id\":\"8bfe7593-dd27-4e17-8f0d-4d154a3a9b43\",\"type\":\"LinearAxis\"},{\"id\":\"69a78e37-cc83-44b0-881a-fda5ed3b8003\",\"type\":\"Grid\"},{\"id\":\"80cc279c-8cb4-4e33-9661-acb753704a22\",\"type\":\"GlyphRenderer\"},{\"id\":\"e6a37b3d-d254-4dd9-81fa-952a2dc8c7b2\",\"type\":\"LabelSet\"}],\"title\":{\"id\":\"56d151ad-8f24-4bff-a0ed-649d0888512f\",\"type\":\"Title\"},\"tool_events\":{\"id\":\"92c1c84d-0f5e-411a-a252-c63696682843\",\"type\":\"ToolEvents\"},\"toolbar\":{\"id\":\"0aed83ce-65ad-4596-ac3f-d1da7c865532\",\"type\":\"Toolbar\"},\"toolbar_location\":\"above\",\"x_range\":{\"id\":\"77ecb5b7-ed69-4ac8-9516-d57a918045c3\",\"type\":\"DataRange1d\"},\"y_range\":{\"id\":\"f9abe0d3-9caa-4401-86f2-956691f41b4c\",\"type\":\"DataRange1d\"}},\"id\":\"f6e5dabd-4d74-472a-a51b-d443734dc830\",\"subtype\":\"Figure\",\"type\":\"Plot\"},{\"attributes\":{},\"id\":\"cfc9405e-ae77-4ed0-b8f1-8273f4fa045f\",\"type\":\"BasicTickFormatter\"},{\"attributes\":{\"plot\":{\"id\":\"f6e5dabd-4d74-472a-a51b-d443734dc830\",\"subtype\":\"Figure\",\"type\":\"Plot\"}},\"id\":\"f9a7e033-16a2-414c-85d7-39d5a8ce87e4\",\"type\":\"WheelZoomTool\"},{\"attributes\":{\"callback\":null,\"column_names\":[\"x2\",\"x1\",\"names\"],\"data\":{\"names\":[\"the\",\"and\",\"to\",\"of\",\"a\",\"that\",\"i\",\"in\",\"it\",\"you\",\"we\",\"is\",\"s\",\"this\",\"so\",\"they\",\"was\",\"for\",\"are\",\"have\",\"but\",\"what\",\"on\",\"with\",\"can\",\"t\",\"about\",\"there\",\"be\",\"as\",\"at\",\"all\",\"not\",\"do\",\"my\",\"one\",\"re\",\"people\",\"like\",\"if\",\"from\",\"now\",\"our\",\"he\",\"an\",\"just\",\"these\",\"or\",\"when\",\"because\",\"very\",\"me\",\"out\",\"by\",\"them\",\"how\",\"know\",\"up\",\"going\",\"had\",\"more\",\"think\",\"who\",\"were\",\"see\",\"your\",\"their\",\"which\",\"would\",\"here\",\"really\",\"get\",\"ve\",\"then\",\"m\",\"world\",\"us\",\"time\",\"some\",\"has\",\"don\",\"actually\",\"into\",\"way\",\"where\",\"will\",\"years\",\"things\",\"other\",\"no\",\"could\",\"go\",\"well\",\"want\",\"been\",\"make\",\"right\",\"she\",\"said\",\"something\",\"those\",\"first\",\"two\",\"than\",\"much\",\"also\",\"look\",\"new\",\"thing\",\"little\",\"got\",\"back\",\"over\",\"most\",\"say\",\"even\",\"his\",\"life\",\"only\",\"work\",\"many\",\"take\",\"need\",\"did\",\"lot\",\"kind\",\"why\",\"good\",\"around\",\"every\",\"different\",\"down\",\"ll\",\"let\",\"her\",\"through\",\"same\",\"being\",\"come\",\"d\",\"day\",\"year\",\"three\",\"use\",\"doing\",\"put\",\"called\",\"any\",\"today\",\"percent\",\"made\",\"after\",\"thank\",\"tell\",\"great\",\"human\",\"find\",\"didn\",\"fact\",\"talk\",\"change\",\"started\",\"another\",\"idea\",\"big\",\"last\",\"own\",\"before\",\"its\",\"never\",\"should\",\"better\",\"give\",\"thought\",\"went\",\"might\",\"important\",\"000\",\"again\",\"together\",\"able\",\"still\",\"problem\",\"off\",\"next\",\"part\",\"course\",\"system\",\"him\",\"does\",\"each\",\"start\",\"show\",\"long\",\"ago\",\"story\",\"came\",\"brain\",\"few\",\"bit\",\"between\",\"used\",\"place\",\"technology\",\"women\",\"too\",\"old\",\"mean\",\"data\",\"water\",\"looking\",\"question\",\"maybe\",\"found\",\"love\",\"doesn\",\"end\",\"example\",\"10\",\"done\",\"point\",\"four\",\"real\",\"wanted\",\"ever\",\"school\",\"understand\",\"sort\",\"live\",\"call\",\"whole\",\"always\",\"children\",\"trying\",\"may\",\"person\",\"away\",\"believe\",\"feel\",\"try\",\"million\",\"working\",\"help\",\"everything\",\"five\",\"country\",\"thinking\",\"second\",\"using\",\"information\",\"money\",\"means\",\"took\",\"power\",\"times\",\"high\",\"space\",\"number\",\"kids\",\"home\",\"become\",\"create\",\"small\",\"design\",\"making\",\"best\",\"left\",\"getting\",\"future\",\"enough\",\"man\",\"quite\",\"city\",\"without\",\"sense\",\"happened\",\"comes\",\"social\",\"probably\",\"light\",\"less\",\"talking\",\"energy\",\"am\",\"building\",\"science\",\"food\",\"body\",\"told\",\"interesting\",\"half\",\"ask\",\"pretty\",\"play\",\"hard\",\"anything\",\"lives\",\"countries\",\"coming\",\"such\",\"family\",\"stuff\",\"dollars\",\"moment\",\"earth\",\"20\",\"imagine\",\"across\",\"side\",\"saw\",\"while\",\"happen\",\"okay\",\"once\",\"build\",\"having\",\"men\",\"later\",\"experience\",\"makes\",\"asked\",\"living\",\"seen\",\"says\",\"room\",\"hand\",\"simple\",\"health\",\"ways\",\"else\",\"case\",\"yet\",\"almost\",\"young\",\"days\",\"nothing\",\"bad\",\"care\",\"happens\",\"goes\",\"move\",\"states\",\"reason\",\"computer\",\"open\",\"learn\",\"africa\",\"process\",\"inside\",\"someone\",\"six\",\"far\",\"project\",\"mind\",\"remember\",\"single\",\"picture\",\"both\",\"whether\",\"problems\",\"saying\",\"community\",\"basically\",\"already\",\"within\",\"looked\",\"myself\",\"billion\",\"possible\",\"often\",\"business\",\"planet\",\"global\",\"top\",\"everybody\",\"sure\",\"public\",\"set\",\"wrong\",\"car\",\"book\",\"keep\",\"yes\",\"answer\",\"oh\",\"sometimes\",\"hope\",\"true\",\"history\",\"war\",\"guy\",\"child\",\"instead\",\"months\",\"ideas\",\"looks\",\"matter\",\"government\",\"amazing\",\"united\",\"since\",\"bring\",\"age\",\"cells\",\"job\",\"heard\",\"until\",\"face\",\"wasn\",\"100\",\"read\",\"control\",\"isn\",\"research\",\"30\",\"words\",\"u\",\"group\",\"under\",\"self\",\"somebody\",\"built\",\"state\",\"woman\",\"turn\",\"beautiful\",\"friends\",\"line\",\"knew\",\"couple\",\"order\",\"form\",\"yeah\",\"internet\",\"middle\",\"music\",\"piece\",\"nature\",\"head\",\"though\",\"stop\",\"everyone\",\"50\",\"places\",\"video\",\"learned\",\"language\",\"run\",\"night\",\"decided\",\"study\",\"word\",\"cancer\",\"works\",\"taking\",\"became\",\"exactly\",\"species\",\"completely\",\"society\",\"education\",\"against\",\"stories\",\"large\",\"share\",\"level\",\"heart\",\"america\",\"model\",\"questions\",\"gets\",\"mother\",\"god\",\"company\",\"turns\",\"ourselves\",\"happening\",\"hear\",\"art\",\"themselves\",\"must\",\"itself\",\"rather\",\"kinds\",\"students\",\"name\",\"hours\",\"disease\",\"front\",\"house\",\"huge\",\"couldn\",\"created\",\"universe\",\"ok\",\"animals\",\"american\",\"environment\",\"worked\",\"minutes\",\"ones\",\"black\",\"perhaps\",\"1\",\"past\",\"third\",\"along\",\"finally\",\"others\",\"sound\",\"early\",\"game\",\"thousands\",\"century\",\"based\",\"least\",\"per\",\"ted\",\"lots\",\"figure\",\"free\",\"guys\",\"particular\",\"happy\",\"news\",\"learning\",\"entire\",\"won\",\"gave\",\"machine\",\"india\",\"during\",\"systems\",\"air\",\"difference\",\"outside\",\"natural\",\"taken\",\"seven\",\"given\",\"changed\",\"leave\",\"cell\",\"15\",\"close\",\"behind\",\"cities\",\"full\",\"scale\",\"china\",\"difficult\",\"takes\",\"companies\",\"yourself\",\"area\",\"reality\",\"seeing\",\"easy\",\"turned\",\"cost\",\"eyes\",\"team\",\"moving\",\"population\",\"culture\",\"york\",\"hands\",\"whatever\",\"began\",\"needs\",\"terms\",\"image\",\"needed\",\"simply\",\"beginning\",\"father\",\"local\",\"realized\",\"media\",\"parents\",\"death\",\"walk\",\"view\",\"white\",\"market\",\"parts\",\"ocean\",\"economic\",\"eight\",\"powerful\",\"week\",\"known\",\"size\",\"felt\",\"humans\",\"certain\",\"spend\",\"longer\",\"phone\",\"wonderful\",\"cannot\",\"grow\",\"common\",\"center\",\"tried\",\"fish\",\"land\",\"oil\",\"deal\",\"interested\",\"political\",\"red\",\"gone\",\"amount\",\"weeks\",\"spent\",\"opportunity\",\"paper\",\"lost\",\"national\",\"quickly\",\"blue\",\"step\",\"poor\",\"green\",\"buy\",\"wouldn\",\"growth\",\"either\",\"patients\",\"sitting\",\"ability\",\"changes\",\"write\",\"challenge\",\"south\",\"low\",\"friend\",\"growing\",\"field\",\"2\",\"shows\",\"born\",\"rest\",\"climate\",\"40\",\"test\",\"street\",\"surface\",\"incredible\",\"average\",\"morning\",\"physical\",\"value\",\"program\",\"scientists\",\"pay\",\"feeling\",\"met\",\"hundreds\",\"girl\",\"behavior\",\"economy\",\"dna\",\"complex\",\"access\",\"risk\",\"animal\",\"structure\",\"feet\",\"attention\",\"areas\",\"anyone\",\"deep\",\"watch\",\"short\",\"absolutely\",\"brought\",\"speak\",\"bottom\",\"die\",\"numbers\",\"audience\",\"stage\",\"realize\",\"images\",\"law\",\"wrote\",\"understanding\",\"books\",\"knowledge\",\"literally\",\"movement\",\"ground\",\"giving\",\"eat\",\"force\",\"seems\",\"alone\",\"telling\",\"starting\",\"hold\",\"nice\",\"sea\",\"forward\",\"developed\",\"individual\",\"kid\",\"millions\",\"support\",\"miles\",\"tools\",\"running\",\"online\",\"result\",\"act\",\"medical\",\"technologies\",\"north\",\"development\",\"lab\",\"blood\",\"fear\",\"nobody\",\"map\",\"personal\",\"voice\",\"issue\",\"key\",\"material\",\"recently\",\"12\",\"theory\",\"cut\",\"cars\",\"sun\",\"fast\",\"changing\",\"playing\",\"clear\",\"especially\",\"girls\",\"soon\",\"patient\",\"choice\",\"fly\",\"creating\",\"discovered\",\"talked\",\"relationship\",\"europe\",\"normal\",\"gives\",\"generation\",\"dark\",\"type\",\"showed\",\"asking\",\"industry\",\"seem\",\"chance\",\"rate\",\"hour\",\"designed\",\"fun\",\"color\",\"issues\",\"university\",\"several\",\"computers\",\"innovation\",\"class\",\"tiny\",\"english\",\"save\",\"allow\",\"focus\",\"developing\",\"digital\",\"solve\",\"film\",\"network\",\"special\",\"wall\",\"situation\",\"baby\",\"solution\",\"box\",\"reasons\",\"knows\",\"meet\",\"stand\",\"dead\",\"begin\",\"impact\",\"haven\",\"anybody\",\"term\",\"pictures\",\"beyond\",\"please\",\"produce\",\"ice\",\"shape\",\"non\",\"resources\",\"robot\",\"cool\",\"stay\",\"likely\",\"groups\",\"rights\",\"available\",\"truth\",\"major\",\"obviously\",\"evidence\",\"experiment\",\"cause\",\"writing\",\"drug\",\"modern\",\"incredibly\",\"becomes\",\"bigger\",\"guess\",\"aren\",\"nine\",\"product\",\"drugs\",\"lived\",\"involved\",\"perfect\",\"month\",\"google\",\"similar\",\"putting\",\"effect\",\"pick\",\"eye\",\"message\",\"web\",\"quality\",\"violence\",\"security\",\"evolution\",\"office\",\"basic\",\"indeed\",\"general\",\"solar\",\"towards\",\"drive\",\"present\",\"worth\",\"listen\",\"send\",\"revolution\",\"hundred\",\"explain\",\"died\",\"certainly\",\"ready\",\"teach\",\"journey\",\"25\",\"walking\",\"hit\",\"led\",\"international\",\"approach\",\"200\",\"games\",\"scientific\",\"60\",\"crazy\",\"potential\",\"chinese\",\"communities\",\"device\",\"camera\",\"source\",\"carbon\",\"sex\",\"rules\",\"sounds\",\"boy\",\"reach\",\"starts\",\"west\",\"examples\",\"3\",\"success\",\"software\",\"measure\",\"particularly\",\"totally\",\"suddenly\",\"action\",\"higher\",\"college\",\"code\",\"eventually\",\"democracy\",\"minute\",\"among\",\"sit\",\"largest\",\"showing\",\"hospital\",\"period\",\"notice\",\"mass\",\"develop\",\"dream\",\"onto\",\"add\",\"plants\",\"break\",\"memory\",\"zero\",\"everywhere\",\"11\",\"favorite\",\"speed\",\"moved\",\"schools\",\"response\",\"wants\",\"individuals\",\"table\",\"extremely\",\"movie\",\"wait\",\"anyway\",\"follow\",\"medicine\",\"trust\",\"biggest\",\"plant\",\"watching\",\"organization\",\"creative\",\"road\",\"worse\",\"choose\",\"results\",\"500\",\"lead\",\"exciting\",\"grew\",\"materials\",\"jobs\",\"positive\",\"plan\",\"poverty\",\"east\",\"safe\",\"strong\",\"fall\",\"essentially\",\"door\",\"object\",\"vision\",\"son\",\"continue\",\"further\",\"happiness\",\"student\",\"doctor\",\"role\",\"including\",\"named\",\"objects\",\"extraordinary\",\"standing\",\"skin\",\"leaders\",\"usually\",\"projects\",\"african\",\"conversation\",\"models\",\"allowed\",\"supposed\",\"interest\",\"faster\",\"police\",\"families\",\"fight\",\"tree\",\"connected\",\"cases\",\"screen\",\"5\",\"somewhere\",\"goal\",\"shown\",\"buildings\",\"finding\"],\"x1\":{\"__ndarray__\":\"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\",\"dtype\":\"float64\",\"shape\":[1000]},\"x2\":{\"__ndarray__\":\"1QvFMbtj6r/fGIMZMB8JwEDISgAkyvu/Wvew4m5UHEAiuaHPRYn1v8jRxAloeeG/Dl41URU0G8CmqHZU2Yf6vyyvKL28W/y/fRx+A9LzHMA6XNdwQoQfwE1NapqPzfQ/1dZPPlCT9j8APm0rEWrjvzxpmTBewQjAtOinWWWvHcDFe+INeFQzwI6R5+IpnBDA7uAxCz1eJEBgq89fsiAxwOYXx3I94ArA+9efdVS9+D/enPIQAv0iwKSO4Ekt0B3AQprZfuML4b/3tmBQ+ysHwEt0BMJnawnADf5V0BXbLMA3WvyGmcwWwCHhI3ExGBBAW8r9qRJWE8Ay62FkMFrrv5cGCW1TZfK/epKAMp2kDMAbQOLZVFopQDKnn9Wi3fm/58tQ+0E3JEDjqJOq0lIzQKsNuK4wPxDAt6RQJXnDGsAKiH+sLP4nwMhgir1FhxLANGck0ReoI0Cbu2bRSPMkwPK1hCLCr/W/JFloSRl0CsBA03vbdnYzQB4ba+WOL+S/XKL0P1NYG8DnM0A3pwcHwD3scZOmww5A6HW16MvJL0DKTwFrKbgqwGeUl7xXRxDAQMA7eIufKEDNMDc562b5P3D2EPq6LiTA0VsqKbVrKMA9/QywLgTuv2y7hBvCnTHAIgT0QUk/K0D7FVHy7aAkwKWlOZTj8xpAHLYYQAJtJEDtfXk+svEnwL/ba6rZOSdAOuARBy0sI0AozuLniBcCwKbFMkHBEva/bOFiSSqlFMDYgPN8paXfPzJ/zq6x3yjAgFvMtLerMcCgjd9/QPIgwEDXB+pBuxjAMAYTbhtGIEAZe987rhcwQJBxHu/7hxTA1rDCYXm4KUALttEXhicvwGeu/zv98CXArgFkgDQnEsBFxkgk4RwmwMFx6lIhWaM/KchGKNs+BMBoMduwzBoPQCO1NpwX3jDA4bs/A8fSMECpj3YCR7UDwJID7AlnGbk/lvAmzadr979eNthGLOcpwLYHNOwgiw3AM9jvMcZpE8AzkJmpZ4cwwHzu4benQRTAU5CjEcomFcApNtH1pLUqQGfaecdrEivAgao/OMZIFkDqKQiM7AM0QHrgejJWI/0/3W3/ZVgNKcB5SQYW42kqQKpYROJpFQPAZiMiCGWJA8AdiIg60FwzwMPM3TgGRShAS1jgfZGOJ0DsSeYVARQoQO1SstiMli3AU9AEAQwAKcBDZn4vu78mwOWjG36uBhtAH/udQqNCJcDOT/1o4PnRv6v4d8Xm/CRAVA0LpT9ZEUDYQGL5YfMAwGVk+dTDw/K/4fSECsgkJcCbcAtHkWkpwMjZEWKoLBPAE4mnxK+vAMC8W5UGHqsGQPYVG8wEzv8/8Q+8opVW9T/rYFaH0/4vQO1igmyZFybAFhtT3sx/K0AsFS96cQ8hQBSseHClESjA0FSyV1bj4r/TO1qiVN8YwEUWeVE/1CdAePiQkWitI8ClO07SBm0aQFSwHY7+eRnAvZ0mKO7KKsAJ7knXqTT5v0UCXVKCTSvAGd+UQgx6LMDHkvPKcfwowMqWR0MSAAfA7tjLADAnIMDjYpTgklopwL7w5qSCqwjAd3KQf9bOzz+o5KP7bhMRwCtqK1U7bSDAWL9OuebvG8BWDksGS4EswOLW/IGlNBLAIu0GwqFfKMD+R3o/Y3EfQFVkwckMqRdA2YcBdoY7J8BY9SCNyd4jwLKmY6BAUwZA0qZJKiz6NcBreE+U0GAqQGhb+p0hADHA6WIEwyG1/78aFYgBedQlQBzAY9NlNx5AJn3d7m1ZGcCy7rU+bKUkQFXPxgQqqy3A6gdHmZwkIkDoEotWThAvwJQRVfRWc7K/efWMakODK0AucU/4dToqwHL2TUKMgCnAs2QaRdKJL8DArnUiB3/Mv84CEicwHSJA2uhijfCtLcDJZCpXKHMgwFnvJdXFqSbA/AoWPIinBMC1Rykk1eUOwGcHzpyOpidAmT+DGK/UJMC9QYsV6UIbwNGGkGM4tPc/9pZaq7yH+D/Db9UlN/soQNVaUaC+jylAs2VfS68p879CgNtcyyUuQEz15H5i9B/AfshMUp4rKsDdVg2l7yQXQEAXetCDzDDAxQAonw9YMUBfon4gJrQvwNbq1KCaZDNA1DEF5PMcIMDw5Mok0xQoQJ9KuhJ0nRzAXSxCVm04B8Bro2iYQtAOwMdwtJhdQxJAfeepmG83NEDlrJHX9BkLQF94ylCduC3AbPA2aTkqJcAawCcJ1VcTQIZIjUtz2vG/WoFJUyldM8DZBqYjlRguQKoJvQ98iey/1vOoCpa+KsAG5jYoCEYAwFRqhynGESbASHKVP+mM6j/8yO8xHtTvv1TVOBrnXyzAO2NDiNfcMMBghrCggbsUwGNo0BTJxinAEj0skINSHUA2yCimsQYSwORjlegWKy/At69FNp5NKEA93EONRM0SwO0uDwtUiPk/HEGEdoq/IsBENao5WgAQwNZfQnqmm7w/bXQCatno/b9LT/YSmsAyQCj0y5a9a+W/p3qgXVo347+ZrT2JKmsnQDijEcE3VyfAijZyf6bdI8A7Oa9JCVsnwLRNxxu6qRbAUrtfI7fXLsCDZIcaLosrwOK+3auUOxzAgwsyOXdeFkA+Q2HxRoArwKqsfCXbgClAPbQZcZKvNMA8JKUcvpwUQJm+HlfJ/hfAGHydYmfwEEBzwynURQgtQCjOTSZR28A/7fQfpATqK8ApMuwCs7oaQLW0LzYKZzJAFKZyKCXaL0DLUSwTQ/0WQLdedg558RpAnxvtRUjQMkBpWYBJZpz0vzkt+nEs4BXArPVvjVOyE8BFaYsCYQ0lQLuT4AzWmxlALjNe/NUEGsA1VFh1flodQPJJn5aDrxvAtzspqEcHIMBh3Z2ne4YyQIcbQUcM+QZA6hK5XiVC5T+nxzaI0YENQCnGqAK/oxpAZFzMYDM08z9gUvjTrdEbQDcYCPEsvB1AlL8Zj0uBMcDGnHcR6iAnQB9BjeanHeq/UrHZ+GpIEcBmYyMfvVArQBlFTKjSJzjASDHOjQoWGkCReqogzoYVwPzEZgiPXQ/ArAzUfWSTGkAE09iENUwsQCPb4qVw7BJA0fSzAQ7JJ8C4qG0ryZYhQJUiThJ8DSzAvmu/oiRfKMAgBsT/CxcOQOSj9o/VUQnABKsuGP2DCEBp+9roZEcWQLDmmXesDzJAhUNDK+ZUMEDzbj9azfUiwJg/kOlG6hJAardtJ43eB0DKx2Jb+BYRQAdSeuZzzCvA+sIbK2ZnFMA5IMKWYbkGwNDGaP/dhizA6TZocq2kIMAW0bJkRoUjwMgNguNvWh/AgOGGdMXWLcBQ2lGqD5cXwAbMSJPBSw3AAroi4s7HGMCel2FitIUewI4oVhmN5Q7ANlmR0zG5HsCNAOGb8ho0QMtlhsJuyC/AwCIJ2rzyAUB0VtUQ50IwwCrD/AYlmijARq0sbH2HFMCAkQkdQNQywHWfsyQfVyXAzJE/qUeyAsB3OsDIwWkcwJryCftumBpAzTcIR4K6LEAyqOiWE1syQI+p6RLaBhdAINJBZIRxBkBd/AwzgCjov+FciH4DiBTAtF1J7nHJGkCKSmuA/KgwwDEycG73axdASTO2n8qyL0A4rWhxIiwuQPG6GJiyXRpA8u6AOzrDMcBBSwcZ9WspwL/zYWuQli1AMQiE818bLED7hpDLcZHvP8Kq/etqYP0/hBFnoCGYEsAXQv/k/D0sQFjfAQsQLA9A1Unzqqz6IsCOVP3TVd0TQOtczbitBivAOAXBHReYCcAwmNt+JM73P+HZAGetvBBAsj+oR+7yJcAs5l8FttwuwO5mla56cfa/RR1oL+zU5r/w2M9N2BDQP6PdDRX5VTJAwpEFqWu0I8Dnm1Lb/rUiQCh35bHysvu/OAuNkBm3L8Bu7DaOtz8uwHNrqZ20nt6/zuvHE4AUG8BT0MQ8Ve8uwG4AYRn2pQZAOEfXIdQF979ErzTbrZAhQG6popSWTgvATTB+Lr64J0ApYGONer8cwOqGByjboRhAhR1uqSnOFcAB1OhPl+8qQMkHyZOQ6AXAhKV+pZ7E+78QQS64VHb8v+RsB24htf6/FL6/oxrgIMBgHAEh474zwBM6+UKaQS1ARVQhvUXWM8DsBT/GC3z+vwMtwPE45yLAyTmiGTDgA0AYnRuu57AaQKTkrjFyLCFASCTlO/ym/D/bho05pHbyP1KCkCR3zOg/fQ+ECoWwMMBEkqtzzm8wQNR+RL6jZSrACOkkqXK5KUAq0U2o66ooQKXx/xTHQCNAwpOQwcZHLUAO51ItUfwswJaMXDuNLCjApmqeY1sgHMDNgp/XFtQzQDY1x33u6/k/dsYx1zIOMsDA+fLY9rIswCrqNbzwe8Y/efvto3WNJsCc4FQhoh8swIlD1UMvIiTAw85AQiPgE0BbA2MpqaMkwOcBxThEj/o/3TyEwdR9LMBP42VAw+suQBe8emRjRyxAfFti5dejAkBtSnJmJ7kgwIIkLgPX5x5AWJa9zuudF0AR9rd3WMsowOOwRilxTCFABtiEu4m64j+1zIenBMEowNhBSniSIRhA/LUgriigB0BDaNzzmrcWwKY7rkERKSrAZHRlNd4JKMCKxwc6jGwCQHT+zQ/m5RFAbGrVlxvFM8AcHXTt2+4NQOkmf59WEyxAV19x+T8mAMCq3xXk3JADwM4NFsMmwhdAa1r1EkUh9L/O1rcoHB/4vxXBulOFMSDAV/eumLgIFkDpDPQMPWQswCdAQXYCUDBAQgUYmnnnDsDzfxAJ2nsswHJYypbzJCJA195qSLTMKMBtqLsOhlImwIQ7Ly/HlRLACQVMtDyc/j9bbbt1g5LyvyDj6KTTGStA5iKx1NXRJ8DU8weR68sfwNMaeP2JRTPAY9+ZvvfyCcDGLOGj/oktQMyBZ0q/9RbA8Io+lJiDJkCCPfeg7yssQAlzzwFy6BzA5gKrePhbMUBArDsbHrEhQGeoCwdSCCHA3oqwc1iZJECN4S/P3vcTQIST1JWTEyxAP13RydUCCUBH73ERyIEuQGcBdCJbezLANFXbRW42IEA5Wd0JsycLQG0Dwf2MYv4/HGKR4n/SK8Db3A8J1CwmQM3OVI9BATPA5aF3tP7HJcDiK3/iXm4aQEnSmJdakyZA4xiCYDKG4z8cK5aBI+EgQE/YhIBCRytA9vlCTPaHM0DQjtQrHY8yQMVCbsu8BgtA26LeCnAVMMCIy7FKv3wlQHCTxKnlTB3AmDhTzvA1BMD/Wy05KP8SQCALyaK3sCXANT+rtjxrKcAKdznVJkcVQBCoQjhMOhTAYI5zIoGUL0Celo7S3bwkQDpFIAMVBR9AoDKeS6RvLMCs0hDpYnQwwHdL9JkMljFANLX+5llVIcBNnjvUyN3xvxk9UPnWuyvA1tTacMkKG8CpDlbqn0IeQNDYyqO1KifAeZdE/OHuI8C+GQlp42MmQBBFblknkA9A5paFukOWLsAhdhheMvgPwKK9IF5SYB/Al8XtKDMfIkBGq1UOI2wSQCSVjU/4fRfA4luofP8dL8D33oygXFkWwDeujoj52ClADB922zmGJ8D7UJqwBAsFQKxfFWrWaDJALIO982aXCEDe8/CODgcKQNaSsbNEGDBA+nYt0GW2HEA3tCHBLnkGQK6jq/lSESXASeKU9A0xMMCkIfYODC/QP7qNDROAvCxAmbRgWSPOL8D2muJ3ruQuQNhOQdTi/Q3AsCPVR/uNIUDKdsE5SvIgwBn580GfuRVA209HTX7iMMDUrOQAS6YuwNxNiwVMhQ9AK43vUyIUMsCQ2yYOm/MiwGmX5n8jbihAddbRQvzjLMB2zn9BxwkRwMvVIdovGCDAQkRLxfX6MECwNyUM3Oa3P3vJwKeRPRRAIwX91W2dK0DtG/PW1JYpQKTDq2N75THATe5UJi7mMEA4/KLJumMgwAmkO/ykwSNAizYguS17E0ArVqWlcMUgwID1PmT0kwdAYfB13ISmK8BCuQs8F3IjQIwqTIrWggHA/viRrCI8AED/kWHZN9IiwLc9vs3pWSdAuP8/GycVIUCiyIYv7owVQLPqpAal4Q/Afu7XxRI3zD+h+pIbkekwwJdA+L0f+fU/VWRBVwWDIUAUoG0fGn8BwK2ONoPJ+RXAAKm7Pqhw4T/ZWOSwATrtP/LAaNyUOAjA3EMTzYJZKECRdugl+Y0qwHrc4uIjdCRA3q7s6K1XMkCxfAiDPlkTQGjE6mhFqibAV6fve0G8AEDcKxXObWkgwG8ZUbYgtidAt9NnSDSKLUD6W8e1I5oKwD+icvsZxSdAn0eR+0myK8Cm1+OHmKMeQKrnZkokxSbA3wk7X2rMD0B1wBieHMYdQDvgBOHg0CnAyZXOjtT/LECujPcBckIfQH3t+RghbDLAOrueocVhuz9j+Rbg+yMoQDXkmkNqeR5A6cfD0MZ5/D8Y0RjmQo4iwFOkVmJBzx5AGprkiRBDJEAUXdF9fmQBwJ5b7XKk8hDA1ULpOdAlDsBETXzCGIAGwBZPV+dYgChAKyYtDyy9JsAoRHmhCuImQB/8cl5LrSDAyyW7NmHdMMANxKE/F5QYQGWiofTotDDAM234/f4fMsBJztSmz0IlQBbN48c/hAXACfe3mFtRMcDI2pNawZolQAB+a9ynexDAmsxxtVnFH8Abq4FPEtDtv+WxvBbw4RtAvchD7N59IMDX2+KaXe4lwJ0raKgxlSXA2Q84GU39J0CqIV2iav65P7CW07AIpS1AxHmwH5GsJsAFtHRsOBcEQG44qVrQ4CtAMyxm1De1JMAeusbgurwjQL0NIIthby5AxYk9g83LL0B8PEEaypsGQC0zCJxxgiXAP35BLI5VGkBI1MUjC6srwCyZEZXqHSXAvO+SKuZ7GsDjEjwShuEEQC/OWQYY7ClAjqVZ0slULMCsdR7fh1bwP1qOBCUb5x3AaXZLvvnEEMD4yd5jKZsgQM9PP88+PSFAKGpNRRxbJsCDzIzNuyoeQEux/p0sXCJAQl9ZzZSG/D9nCwK68R8vQFfeznHCYBvAIdKXomZKDkAYKyn6e5IwwPkm0IOp/yHAfCGMEfl527+x6Hz/ImkgQKK0vzjMPydAHxhGeyIdD0BYuYdp5QogQPxuqGfWXwHAO+gHZatqJEAjS/k1wBkmQNyxeK+jTRZAT+MVAz9OKMAvVmWz5QwbwKqfcdGhSTBAZCPSd1yLFEDFwy2GyP4FwOTVEh2ZPiPAfh6wL9m6GEDuzuVOIIfZv771FTfp9y3AFTFdlWudIsC6dIvMha8QwOLH4dlGuSTAX3GLZ8hOMUDOjacmK3gGwFzbX98IGBbAuOz2tyLEI8DfHx7+hHExQKXUpyWIkiJAdlMovykuLcBxpZ2DSz0eQFanANtt6DBAgBfjcG+FIECqR5GhcAUawIylXuu7cCNAE3sdixoSFMD4wEcbuE4cwJJ92+DT4RrA3PPE9KSlGkBAP7y7YZ3zP8vGyrrVHQnAnUs2KjFkJsA3h4s8Xrj7v56aidv1RCXAu91yiro6HUBy3NLb5LgMwIIauLKTtyPAWUPD9c1tKcAuUccu8wkmQPxWiHtVuds/Ft916PDjGMBA98DtCBICwDgF7ByDmCjA/sg1BDhjLUBSyBm7ZQMdwPgMfMgVLPC/9qelBsQZEkBfOZhqNb8cQLeqfoxdEyxA3NK5UETZMEBuF3lu9k0uQMR6OmMAWiZAlJ7UDits9T/0ZR8K3dkSQJ4xRV/jJRZAusQ7grUbF0B7B3sChzP8v69UfNW/piNA3DRrDt8o9D9kCLLBREgnQP2pT+84RyNAu5cyzLfMDEA1emFi5i0twAGm/3rTBC3ADfssTvbqEkCNHZW9eDIowBQsO0BfOjFAd3ESJIWaEsB6BfrZ730KwMrM5/Q5xh5AAzNOmg8/DsAwlaSh7n3+P//tNbxCbhlApZWqPZmBM0AP0yoqmeQOwIGB0vSFMCtARkC8S/amF0DKF5xCCsMowMLLcfiZxxbAsCKUMKNtLcCRMpNktDc2wCnes9CMniFAY7SgfUS9K0BgvvVgCLINQEqS+zMhTDDA6n8tuqarH0ASClQzd2IGwHalZN/u8vw/srpy6N4RKsCwRGb16VUmwIyRjhleTiRA6ecyNfKEzz/4ndyhWLoXQH5FC1aSKyJAkERKmKy5LcAncMujh4EowJa7h1Of3g1AftxucSXMCEDIVNpwyE0yQLCDg4YYpydAhJ+0J++uJ8DESI07D4IvQA70MdzBeiVAWhvLRk0GIUCUTYiJtOonQGYOiEqj5SJAOZMCqUvoHsC54Gxjy+QYwPIAqYtNixNAL8PlEHHlFsBdHZptCUAXQBxZURuDWwzAiOvOKxRR9L9nxhGgBU4SQJlpt2xkkxxAdM4ZYPzvEsA9w2oxIHwdQJwKMsPH0g7ArGL2w4wfJkBd+yL3ohANwBHya4rgRixAF3VI14mi+z/LyuCA2bkhwNDWkbaD2CTA3nCY9stLFsDU6DSg7UodwJX1OveXQBVAJmbmv+d/JcD1mDSRJ3AYQI9e/TXsaBhAtSM5geOYMUCVDcxiIVwjwNqXeV/LJBjA3M1voQJ4FcDOe2WO38YKwPjt6r5DVwxAU1gqS2axM0D50/XNBG0sQPwopay1yeQ/f+CLAoSlGUCynjb6WVMkwLgEEOTRQxhADgsCYT4lMUDRYV5aA6YlQF19RM5CcgNAJd6fPX1MGUBxa2/tPjYdQDoZbsqOtes/m1aX9I6YKkBkvmdGZrHkPw/tr3hveBNAf+Pg/veUIsAU7zBzMAksQK4PZd+qlx9A0lFzv1UDEUAoSZERDX8xwBklLW+KtyxAQ4M+MuBiJsC23efdf/UkwPrWlA8b4CvA/ZPbdvwEDEChY5Sv8ictQLHBanequDDAFVf7yT3V/z8x5i05CDv/P4/3LyZG0C7ACY7ipAZO2j+qT1Ul3bYgQHtMCwQ6tB/A2NNEJUJ9GUDgj6FngIUjwCluXQKXTMs/CbqlU11H5b/hU6ykPqgQQD4kuSOkNCNAfaI1RnFNJECg7rdWWPsoQLz6HugnJR5AUL9NkNxbAsBMFtMO/nYgQGBxC62FU84/fwA+/ywPHkBl4FjN5U80QIrJM9MJmiPA2hqbFn2oJMD33Z10VQ8NQIQ6fXMG0xXAjt8oMgNPIsDHp+GKA7cmwGB020rNvSNANEKlPw2JKsDLCVlnGt4RwE7tlKNgpTDAUuYyO2NN8L8HyKnB9Vr2v1UOrWHP6hvAnm+iHjug8j+JCqjGhj4swK0TN0eHmSPA8jlakzCiJMD6WmNELdIRQFco9GVVuiVAQh/4mwiXB0ArNr0eqVcswKwT2PUZBhDAUG4LsmLuHEDlABc4nD0swDZhLh7zwRhAHWfBM35hIUBskelF19MiQB1LiwIThDFAUBMmd9UB57/0ybmW+/PhvxMGtYcrYBlAZTU3EX9m7783JBo5bPsRQF5KLeeWojBAJA9TTMMQBUAKFr9e7icBQG64X1zMxiXAon7ws1mpMcBGWEuNoRItQAvjOwOZ6zFAxfFAGL+eK8D1RyIPST8gQFI2XqAo3vo/U5NfOYpkFcBWgcB54y8WQCp4wP+3WPu/LLw+p3alH8CVBpTVgFUeQFSbudeV9yJAwIrZ0zMmKEDOP1ExlP4AQPrrrACjRSDAdcAUvEq6JkDfiGunTqcrwOZI17wz+hnA2x1L003wJMAWpZRoziAmQIFBJegP+CTAazmg4Vdk/L+f/gOumz4swJTSeNQPUCTA43pYzCCqIEA/FFF69XQUwPuiVi7i/PU/AEib3SWwIsC6UXjGiCIkwEHEzfP4fy5Atqgc8mdJJsD7ySuJnK8CQMB08mTA7iBAbJbmbxdfEsCxeZ9U23IuwN7ICEWk9g1A+DR9PkPEGkBHDjJMuCwuwGT2pzbijjFABSsLj4pDIUBlgTF3LUf2P6Ud6fZvEDFAFO2LLh2FFcBLXff88IYTQLifuOrzw/O/qjcOV8wlIsDqGDaAg7wSwGRRRdciCiPA8MNr4DoyIEAoHvERplcFwHOohQfvbyJA/BaW24ACE0Cts41WiJgiwCcj85cBaiRAVuEqOTU3HUA0Of1o31sTwIVghU2RkyxA1vnExsYuHcCz4DDnxDYxQBozwbW2YSzAW+m4c1CdGsAJIn24he0hQOuNQ/1pJCbAWNi5MyHsLkCkshim3eowQO/uQygLvxdA8nV4jQmy7D9IjXzZA50kQDOAgfGWHS1A8qBRRiAIBECwzZBqhxobQDZT07YYxyXAZIrocdFtFcATRKSHYbIKwEj5FIUnr+Q/RcFx0IQFAkCS9pSQpQn9PzF1rDC+oBzALXrd7El5IsB44fJNLXEfQCLX0e5jYPo/gaVQq/pK8D8RQojvkdIhQKEZLAmMeRrA/JyGS9Zd5T8EtnS/f8ktQFdjPc3QmiVANL26C/sfJMB7poNl3QITQLH4ncl58zBA2CU09JjZAcAGXXIuvuQwQKA8NeWDyCRAtQegNQLwyj+YS1GSiBIwQO4PZdgJ3RbAyBdUs0TT3r91i3i5VN4gQBZ/88vf0CxAiTvSvBVGIkDYL4pZayAyQF6C2+k9ZR/AOeM3tBgqDsDRcOMWu2EMQCYRF5DnOjJAd8ky56Q7FsBhjRcSm8orwB+4BB5PJhvA7PLgjW4eJEBIrErxBSIwwO11PJAGuzBAuTnzbAWpF8A=\",\"dtype\":\"float64\",\"shape\":[1000]}}},\"id\":\"0fd33199-806a-48d5-945e-634e9b8e1882\",\"type\":\"ColumnDataSource\"},{\"attributes\":{\"plot\":{\"id\":\"f6e5dabd-4d74-472a-a51b-d443734dc830\",\"subtype\":\"Figure\",\"type\":\"Plot\"},\"source\":{\"id\":\"0fd33199-806a-48d5-945e-634e9b8e1882\",\"type\":\"ColumnDataSource\"},\"text\":{\"field\":\"names\"},\"text_align\":\"center\",\"text_color\":{\"value\":\"#555555\"},\"text_font_size\":{\"value\":\"8pt\"},\"x\":{\"field\":\"x1\"},\"y\":{\"field\":\"x2\"},\"y_offset\":{\"value\":6}},\"id\":\"e6a37b3d-d254-4dd9-81fa-952a2dc8c7b2\",\"type\":\"LabelSet\"},{\"attributes\":{\"plot\":{\"id\":\"f6e5dabd-4d74-472a-a51b-d443734dc830\",\"subtype\":\"Figure\",\"type\":\"Plot\"}},\"id\":\"931a3d63-810d-4e03-a7e6-abfbd13cf2aa\",\"type\":\"PanTool\"},{\"attributes\":{\"plot\":{\"id\":\"f6e5dabd-4d74-472a-a51b-d443734dc830\",\"subtype\":\"Figure\",\"type\":\"Plot\"}},\"id\":\"ae448dbf-1918-4d0a-a6c4-2fe885227ab7\",\"type\":\"ResetTool\"},{\"attributes\":{\"plot\":{\"id\":\"f6e5dabd-4d74-472a-a51b-d443734dc830\",\"subtype\":\"Figure\",\"type\":\"Plot\"}},\"id\":\"ce4c7281-a027-43b1-90f0-0703c12a225e\",\"type\":\"SaveTool\"},{\"attributes\":{\"plot\":{\"id\":\"f6e5dabd-4d74-472a-a51b-d443734dc830\",\"subtype\":\"Figure\",\"type\":\"Plot\"},\"ticker\":{\"id\":\"990d3a4d-31e6-4328-8b3f-3958c2b46c4b\",\"type\":\"BasicTicker\"}},\"id\":\"1bd6d461-d9b8-4192-8f01-56e1cc1754e6\",\"type\":\"Grid\"},{\"attributes\":{},\"id\":\"97f7aa1f-cfc1-4399-b03f-b5943c17ff1b\",\"type\":\"BasicTicker\"},{\"attributes\":{\"active_drag\":\"auto\",\"active_scroll\":\"auto\",\"active_tap\":\"auto\",\"tools\":[{\"id\":\"931a3d63-810d-4e03-a7e6-abfbd13cf2aa\",\"type\":\"PanTool\"},{\"id\":\"f9a7e033-16a2-414c-85d7-39d5a8ce87e4\",\"type\":\"WheelZoomTool\"},{\"id\":\"ae448dbf-1918-4d0a-a6c4-2fe885227ab7\",\"type\":\"ResetTool\"},{\"id\":\"ce4c7281-a027-43b1-90f0-0703c12a225e\",\"type\":\"SaveTool\"}]},\"id\":\"0aed83ce-65ad-4596-ac3f-d1da7c865532\",\"type\":\"Toolbar\"}],\"root_ids\":[\"f6e5dabd-4d74-472a-a51b-d443734dc830\"]},\"title\":\"Bokeh Application\",\"version\":\"0.12.4\"}};\n",
       "            var render_items = [{\"docid\":\"78be1f9f-0008-4d65-b30c-d712ecfb1aa3\",\"elementid\":\"4adbd166-b48e-419a-b6d7-cd3458265b92\",\"modelid\":\"f6e5dabd-4d74-472a-a51b-d443734dc830\"}];\n",
       "            \n",
       "            Bokeh.embed.embed_items(docs_json, render_items);\n",
       "          };\n",
       "          if (document.readyState != \"loading\") fn();\n",
       "          else document.addEventListener(\"DOMContentLoaded\", fn);\n",
       "        })();\n",
       "      },\n",
       "      function(Bokeh) {\n",
       "      }\n",
       "    ];\n",
       "  \n",
       "    function run_inline_js() {\n",
       "      \n",
       "      if ((window.Bokeh !== undefined) || (force === true)) {\n",
       "        for (var i = 0; i < inline_js.length; i++) {\n",
       "          inline_js[i](window.Bokeh);\n",
       "        }if (force === true) {\n",
       "          display_loaded();\n",
       "        }} else if (Date.now() < window._bokeh_timeout) {\n",
       "        setTimeout(run_inline_js, 100);\n",
       "      } else if (!window._bokeh_failed_load) {\n",
       "        console.log(\"Bokeh: BokehJS failed to load within specified timeout.\");\n",
       "        window._bokeh_failed_load = true;\n",
       "      } else if (force !== true) {\n",
       "        var cell = $(document.getElementById(\"4adbd166-b48e-419a-b6d7-cd3458265b92\")).parents('.cell').data().cell;\n",
       "        cell.output_area.append_execute_result(NB_LOAD_WARNING)\n",
       "      }\n",
       "  \n",
       "    }\n",
       "  \n",
       "    if (window._bokeh_is_loading === 0) {\n",
       "      console.log(\"Bokeh: BokehJS loaded, going straight to plotting\");\n",
       "      run_inline_js();\n",
       "    } else {\n",
       "      load_libs(js_urls, function() {\n",
       "        console.log(\"Bokeh: BokehJS plotting callback run at\", now());\n",
       "        run_inline_js();\n",
       "      });\n",
       "    }\n",
       "  }(this));\n",
       "</script>"
      ]
     },
     "metadata": {},
     "output_type": "display_data"
    }
   ],
   "source": [
    "p = figure(tools=\"pan,wheel_zoom,reset,save\",\n",
    "           toolbar_location=\"above\",\n",
    "           title=\"word2vec T-SNE for most common words\")\n",
    "\n",
    "source = ColumnDataSource(data=dict(x1=words_top_ted_tsne[:,0],\n",
    "                                    x2=words_top_ted_tsne[:,1],\n",
    "                                    names=words_top_ted))\n",
    "\n",
    "p.scatter(x=\"x1\", y=\"x2\", size=8, source=source)\n",
    "\n",
    "labels = LabelSet(x=\"x1\", y=\"x2\", text=\"names\", y_offset=6,\n",
    "                  text_font_size=\"8pt\", text_color=\"#555555\",\n",
    "                  source=source, text_align='center')\n",
    "p.add_layout(labels)\n",
    "\n",
    "show(p)"
   ]
  },
  {
   "cell_type": "code",
   "execution_count": 30,
   "metadata": {
    "collapsed": false
   },
   "outputs": [
    {
     "data": {
      "text/plain": [
       "0.76114699306603439"
      ]
     },
     "execution_count": 30,
     "metadata": {},
     "output_type": "execute_result"
    }
   ],
   "source": [
    "model_ted.similarity('woman', 'man')"
   ]
  },
  {
   "cell_type": "code",
   "execution_count": 52,
   "metadata": {
    "collapsed": false
   },
   "outputs": [
    {
     "data": {
      "text/plain": [
       "0.76114702"
      ]
     },
     "execution_count": 52,
     "metadata": {},
     "output_type": "execute_result"
    }
   ],
   "source": [
    "import numpy as np\n",
    "\n",
    "np.dot(model_ted['woman'], model_ted['man']) / (np.linalg.norm(model_ted['woman']) *np.linalg.norm(model_ted['man']))"
   ]
  },
  {
   "cell_type": "markdown",
   "metadata": {},
   "source": [
    "### Part 5: Wiki Learnt Representations"
   ]
  },
  {
   "cell_type": "markdown",
   "metadata": {},
   "source": [
    "Download dataset"
   ]
  },
  {
   "cell_type": "code",
   "execution_count": 53,
   "metadata": {
    "collapsed": true
   },
   "outputs": [],
   "source": [
    "# if not os.path.isfile('wikitext-103-raw-v1.zip'):\n",
    "#     urllib.request.urlretrieve(\"https://s3.amazonaws.com/research.metamind.io/wikitext/wikitext-103-raw-v1.zip\", filename=\"wikitext-103-raw-v1.zip\")\n",
    "    \n",
    "# Download the dataset if it's not already there: this may take a minute as it is 75MB\n",
    "if not os.path.isfile('wikitext-103-raw-v1.zip'):\n",
    "#     urlopen(\"https://wit3.fbk.eu/get.php?path=XML_releases/xml/ted_en-20160408.zip&filename=ted_en-20160408.zip\")\n",
    "    urlopen(\"https://s3.amazonaws.com/research.metamind.io/wikitext/wikitext-103-raw-v1.zip\")"
   ]
  },
  {
   "cell_type": "code",
   "execution_count": null,
   "metadata": {
    "collapsed": false
   },
   "outputs": [],
   "source": [
    "with zipfile.ZipFile('wikitext-103-raw-v1.zip', 'r') as z:\n",
    "    input_text = str(z.open('wikitext-103-raw/wiki.train.raw', 'r').read(), encoding='utf-8') # Thanks Robert Bastian\n",
    "    \n",
    "# For now, we're only interested in the subtitle text, so let's extract that from the XML:\n",
    "with zipfile.ZipFile('wikitext-103-raw-v1.zip', 'r') as z:\n",
    "    doc = lxml.etree.parse(z.open('ted_en-20160408.xml', 'r'))\n",
    "input_text = '\\n'.join(doc.xpath('//content/text()'))\n",
    "del doc"
   ]
  },
  {
   "cell_type": "markdown",
   "metadata": {},
   "source": [
    "Preprocess sentences (note that it's important to remove small sentences for performance)"
   ]
  },
  {
   "cell_type": "code",
   "execution_count": null,
   "metadata": {
    "collapsed": false
   },
   "outputs": [],
   "source": [
    "sentences_wiki = []\n",
    "for line in input_text.split('\\n'):\n",
    "    s = [x for x in line.split('.') if x and len(x.split()) >= 5]\n",
    "    sentences_wiki.extend(s)\n",
    "    \n",
    "for s_i in range(len(sentences_wiki)):\n",
    "    sentences_wiki[s_i] = re.sub(\"[^a-z]\", \" \", sentences_wiki[s_i].lower())\n",
    "    sentences_wiki[s_i] = re.sub(r'\\([^)]*\\)', '', sentences_wiki[s_i])\n",
    "del input_text"
   ]
  },
  {
   "cell_type": "code",
   "execution_count": null,
   "metadata": {
    "collapsed": false
   },
   "outputs": [],
   "source": [
    "# sample 1/5 of the data\n",
    "shuffle(sentences_wiki)\n",
    "print(len(sentences_wiki))\n",
    "sentences_wiki = sentences_wiki[:int(len(sentences_wiki)/5)]\n",
    "print(len(sentences_wiki))"
   ]
  },
  {
   "cell_type": "markdown",
   "metadata": {},
   "source": [
    "Now, repeat all the same steps that you performed above. You should be able to reuse essentially all the code."
   ]
  },
  {
   "cell_type": "code",
   "execution_count": null,
   "metadata": {
    "collapsed": true
   },
   "outputs": [],
   "source": [
    "# ..."
   ]
  },
  {
   "cell_type": "markdown",
   "metadata": {},
   "source": [
    "#### t-SNE visualization"
   ]
  },
  {
   "cell_type": "code",
   "execution_count": null,
   "metadata": {
    "collapsed": true
   },
   "outputs": [],
   "source": [
    "# This assumes words_top_wiki is a list of strings, the top 1000 words\n",
    "words_top_vec_wiki = model_wiki[words_top_wiki]\n",
    "\n",
    "tsne = TSNE(n_components=2, random_state=0)\n",
    "words_top_wiki_tsne = tsne.fit_transform(words_top_vec_wiki)"
   ]
  },
  {
   "cell_type": "code",
   "execution_count": null,
   "metadata": {
    "collapsed": false
   },
   "outputs": [],
   "source": [
    "p = figure(tools=\"pan,wheel_zoom,reset,save\",\n",
    "           toolbar_location=\"above\",\n",
    "           title=\"word2vec T-SNE for most common words\")\n",
    "\n",
    "source = ColumnDataSource(data=dict(x1=words_top_wiki_tsne[:,0],\n",
    "                                    x2=words_top_wiki_tsne[:,1],\n",
    "                                    names=words_top_wiki))\n",
    "\n",
    "p.scatter(x=\"x1\", y=\"x2\", size=8, source=source)\n",
    "\n",
    "labels = LabelSet(x=\"x1\", y=\"x2\", text=\"names\", y_offset=6,\n",
    "                  text_font_size=\"8pt\", text_color=\"#555555\",\n",
    "                  source=source, text_align='center')\n",
    "p.add_layout(labels)\n",
    "\n",
    "show(p)"
   ]
  }
 ],
 "metadata": {
  "anaconda-cloud": {},
  "kernelspec": {
   "display_name": "Python 2",
   "language": "python",
   "name": "python2"
  },
  "language_info": {
   "codemirror_mode": {
    "name": "ipython",
    "version": 2
   },
   "file_extension": ".py",
   "mimetype": "text/x-python",
   "name": "python",
   "nbconvert_exporter": "python",
   "pygments_lexer": "ipython2",
   "version": "2.7.9"
  }
 },
 "nbformat": 4,
 "nbformat_minor": 0
}
